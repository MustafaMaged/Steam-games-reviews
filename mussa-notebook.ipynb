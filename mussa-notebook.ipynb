{
 "cells": [
  {
   "cell_type": "markdown",
   "id": "eb1b0557-d37d-4f06-8b27-2a135a4df8a0",
   "metadata": {
    "execution": {
     "iopub.execute_input": "2022-11-23T17:02:36.679466Z",
     "iopub.status.busy": "2022-11-23T17:02:36.679080Z",
     "iopub.status.idle": "2022-11-23T17:02:36.974589Z",
     "shell.execute_reply": "2022-11-23T17:02:36.973159Z",
     "shell.execute_reply.started": "2022-11-23T17:02:36.679422Z"
    }
   },
   "source": [
    "# Project Title\n",
    "### Data Engineering Capstone Project\n",
    "\n",
    "#### Project Summary\n",
    "Steam games Data warehouse using spark run on EMR cluster\n",
    "\n",
    "The project follows the following steps:\n",
    "* Step 1: Scope the Project and Gather Data\n",
    "* Step 2: Explore and Assess the Data\n",
    "* Step 3: Define the Data Model\n",
    "* Step 4: Run ETL to Model the Data\n",
    "* Step 5: Complete Project Write Up"
   ]
  },
  {
   "cell_type": "markdown",
   "id": "cabf9f63-54f3-48be-9680-4f62518cb39d",
   "metadata": {
    "tags": []
   },
   "source": [
    "### Step 1: Scope the Project and Gather Data\n",
    "\n",
    "#### Scope \n",
    "The scope of this project will be creating a steam games reviews data lake. Data from 2 sources will be incorporated to be used in data science projects\n",
    "\n",
    "\n",
    "#### Describe and Gather Data \n",
    "The first dataset is a csv file of game reviews on steam for around 300 different games containing the review body, date of publishing, and other metrics of the quality of reviews, data is obtained using Steam's provided API outlined in the Steamworks documentation: https://partner.steamgames.com/doc/store/getreviews\n",
    "found here:\n",
    "https://www.kaggle.com/datasets/najzeko/steam-reviews-2021\n",
    "\n",
    "The second dataset is a json file containing data of 75000 games including their name, publisher, date, categories etc., the dataset is found here: https://www.kaggle.com/datasets/deepann/80000-steam-games-dataset?resource=download\n",
    "  "
   ]
  },
  {
   "cell_type": "code",
   "execution_count": 1,
   "id": "0f1c5200-b590-4b49-93c1-af1aef444e5e",
   "metadata": {
    "execution": {
     "iopub.execute_input": "2022-11-23T23:09:44.097603Z",
     "iopub.status.busy": "2022-11-23T23:09:44.096939Z",
     "iopub.status.idle": "2022-11-23T23:10:36.110041Z",
     "shell.execute_reply": "2022-11-23T23:10:36.108273Z",
     "shell.execute_reply.started": "2022-11-23T23:09:44.097552Z"
    },
    "tags": []
   },
   "outputs": [
    {
     "data": {
      "application/vnd.jupyter.widget-view+json": {
       "model_id": "451154d7025743ebaf80a4f6b6b29ba9",
       "version_major": 2,
       "version_minor": 0
      },
      "text/plain": [
       "VBox()"
      ]
     },
     "metadata": {},
     "output_type": "display_data"
    },
    {
     "name": "stdout",
     "output_type": "stream",
     "text": [
      "Starting Spark application\n"
     ]
    },
    {
     "data": {
      "text/html": [
       "<table>\n",
       "<tr><th>ID</th><th>YARN Application ID</th><th>Kind</th><th>State</th><th>Spark UI</th><th>Driver log</th><th>Current session?</th></tr><tr><td>0</td><td>application_1669244644810_0001</td><td>pyspark</td><td>idle</td><td><a target=\"_blank\" href=\"http://ip-172-31-45-96.us-west-2.compute.internal:20888/proxy/application_1669244644810_0001/\">Link</a></td><td><a target=\"_blank\" href=\"http://ip-172-31-43-247.us-west-2.compute.internal:8042/node/containerlogs/container_1669244644810_0001_01_000001/livy\">Link</a></td><td>✔</td></tr></table>"
      ],
      "text/plain": [
       "<IPython.core.display.HTML object>"
      ]
     },
     "metadata": {},
     "output_type": "display_data"
    },
    {
     "data": {
      "application/vnd.jupyter.widget-view+json": {
       "model_id": "",
       "version_major": 2,
       "version_minor": 0
      },
      "text/plain": [
       "FloatProgress(value=0.0, bar_style='info', description='Progress:', layout=Layout(height='25px', width='50%'),…"
      ]
     },
     "metadata": {},
     "output_type": "display_data"
    },
    {
     "name": "stdout",
     "output_type": "stream",
     "text": [
      "SparkSession available as 'spark'.\n"
     ]
    },
    {
     "data": {
      "application/vnd.jupyter.widget-view+json": {
       "model_id": "",
       "version_major": 2,
       "version_minor": 0
      },
      "text/plain": [
       "FloatProgress(value=0.0, bar_style='info', description='Progress:', layout=Layout(height='25px', width='50%'),…"
      ]
     },
     "metadata": {},
     "output_type": "display_data"
    },
    {
     "name": "stdout",
     "output_type": "stream",
     "text": [
      "Collecting pandas==0.25.1\n",
      "  Downloading pandas-0.25.1-cp36-cp36m-manylinux1_x86_64.whl (10.5 MB)\n",
      "Collecting python-dateutil>=2.6.1\n",
      "  Downloading python_dateutil-2.8.2-py2.py3-none-any.whl (247 kB)\n",
      "Requirement already satisfied: numpy>=1.13.3 in /usr/local/lib64/python3.6/site-packages (from pandas==0.25.1) (1.14.5)\n",
      "Requirement already satisfied: pytz>=2017.2 in /usr/local/lib/python3.6/site-packages (from pandas==0.25.1) (2019.3)\n",
      "Requirement already satisfied: six>=1.5 in /usr/local/lib/python3.6/site-packages (from python-dateutil>=2.6.1->pandas==0.25.1) (1.12.0)\n",
      "Installing collected packages: python-dateutil, pandas\n",
      "Successfully installed pandas-0.25.1 python-dateutil-2.8.2"
     ]
    }
   ],
   "source": [
    "sc.install_pypi_package(\"pandas==0.25.1\")"
   ]
  },
  {
   "cell_type": "code",
   "execution_count": 10,
   "id": "0d86ed19-41c9-401d-aa30-711b7c9ddd28",
   "metadata": {
    "execution": {
     "iopub.execute_input": "2022-11-23T23:19:12.659169Z",
     "iopub.status.busy": "2022-11-23T23:19:12.658849Z",
     "iopub.status.idle": "2022-11-23T23:19:12.991423Z",
     "shell.execute_reply": "2022-11-23T23:19:12.990352Z",
     "shell.execute_reply.started": "2022-11-23T23:19:12.659141Z"
    },
    "tags": []
   },
   "outputs": [
    {
     "data": {
      "application/vnd.jupyter.widget-view+json": {
       "model_id": "4652b3304f7540d59d668d359be95aee",
       "version_major": 2,
       "version_minor": 0
      },
      "text/plain": [
       "VBox()"
      ]
     },
     "metadata": {},
     "output_type": "display_data"
    },
    {
     "data": {
      "application/vnd.jupyter.widget-view+json": {
       "model_id": "",
       "version_major": 2,
       "version_minor": 0
      },
      "text/plain": [
       "FloatProgress(value=0.0, bar_style='info', description='Progress:', layout=Layout(height='25px', width='50%'),…"
      ]
     },
     "metadata": {},
     "output_type": "display_data"
    }
   ],
   "source": [
    "# Do all imports and installs here\n",
    "import pandas as pd\n",
    "import os\n",
    "import numpy as np\n",
    "import io\n",
    "from pyspark.sql.types import StructType as R, StructField as Fld, DoubleType as Dbl, StringType as Str, IntegerType as Int, DateType as Date, BooleanType as Bool, FloatType as Flt\n",
    "from pyspark.sql.functions import col,isnan, when, count, sum as fsum\n",
    "# from pyspark.sql.functions import monotonically_increasing_id"
   ]
  },
  {
   "cell_type": "markdown",
   "id": "6dd4848a-e5ad-477b-9910-3584a611d052",
   "metadata": {},
   "source": [
    "### Step 2: Explore and Assess the Data\n",
    "#### Explore and clean the Data \n"
   ]
  },
  {
   "cell_type": "markdown",
   "id": "ae276937-1576-4685-b540-ff13b7f6adc1",
   "metadata": {
    "tags": []
   },
   "source": [
    "### first let's work with the games data"
   ]
  },
  {
   "cell_type": "code",
   "execution_count": 3,
   "id": "71ee6137-b043-4e24-b9e8-4ce21a6d00d0",
   "metadata": {
    "execution": {
     "iopub.execute_input": "2022-11-23T23:10:36.774510Z",
     "iopub.status.busy": "2022-11-23T23:10:36.773497Z",
     "iopub.status.idle": "2022-11-23T23:10:52.847525Z",
     "shell.execute_reply": "2022-11-23T23:10:52.846434Z",
     "shell.execute_reply.started": "2022-11-23T23:10:36.774466Z"
    },
    "tags": []
   },
   "outputs": [
    {
     "data": {
      "application/vnd.jupyter.widget-view+json": {
       "model_id": "f1b00d5b278b4c979500543e4504995d",
       "version_major": 2,
       "version_minor": 0
      },
      "text/plain": [
       "VBox()"
      ]
     },
     "metadata": {},
     "output_type": "display_data"
    },
    {
     "data": {
      "application/vnd.jupyter.widget-view+json": {
       "model_id": "",
       "version_major": 2,
       "version_minor": 0
      },
      "text/plain": [
       "FloatProgress(value=0.0, bar_style='info', description='Progress:', layout=Layout(height='25px', width='50%'),…"
      ]
     },
     "metadata": {},
     "output_type": "display_data"
    },
    {
     "name": "stdout",
     "output_type": "stream",
     "text": [
      "+--------------------+------------+--------------------+--------------------+--------------------+--------------------+----+--------------------+-----+----------+--------------------+--------------------+\n",
      "|          categories|        date|           developer|           full_desc|             img_url|                name|pegi|           popu_tags|price| publisher|        requirements|            url_info|\n",
      "+--------------------+------------+--------------------+--------------------+--------------------+--------------------+----+--------------------+-----+----------+--------------------+--------------------+\n",
      "|[Online PvPLAN, P...|Nov 16, 2018|          Innersloth|[About This Game ...|https://steamcdn-...|            Among Us|null|[Multiplayer, Onl...|  499|Innersloth|[[,, [,  1 ,  Win...|[945360, app, htt...|\n",
      "|[Steam Achievemen...|Aug 21, 2012|Valve, Hidden Pat...|[About This Game ...|https://steamcdn-...|Counter-Strike: G...|null|[Shooter, Multipl...| free|     Valve|[[[ nVidia GeForc...|[730, app, https:...|\n",
      "+--------------------+------------+--------------------+--------------------+--------------------+--------------------+----+--------------------+-----+----------+--------------------+--------------------+\n",
      "only showing top 2 rows"
     ]
    }
   ],
   "source": [
    "\n",
    "games = spark.read.json('s3://mussa-bucket/games_data.json')\n"
   ]
  },
  {
   "cell_type": "code",
   "execution_count": 9,
   "id": "51c703d8-9fda-4cfd-9728-02cc04b261bd",
   "metadata": {
    "execution": {
     "iopub.execute_input": "2022-11-23T14:37:20.875360Z",
     "iopub.status.busy": "2022-11-23T14:37:20.875052Z",
     "iopub.status.idle": "2022-11-23T14:37:24.648123Z",
     "shell.execute_reply": "2022-11-23T14:37:24.647084Z",
     "shell.execute_reply.started": "2022-11-23T14:37:20.875332Z"
    },
    "tags": []
   },
   "outputs": [
    {
     "data": {
      "application/vnd.jupyter.widget-view+json": {
       "model_id": "e725f487867c4f29ad07157c0dab3ff5",
       "version_major": 2,
       "version_minor": 0
      },
      "text/plain": [
       "VBox()"
      ]
     },
     "metadata": {},
     "output_type": "display_data"
    },
    {
     "data": {
      "application/vnd.jupyter.widget-view+json": {
       "model_id": "",
       "version_major": 2,
       "version_minor": 0
      },
      "text/plain": [
       "FloatProgress(value=0.0, bar_style='info', description='Progress:', layout=Layout(height='25px', width='50%'),…"
      ]
     },
     "metadata": {},
     "output_type": "display_data"
    },
    {
     "name": "stdout",
     "output_type": "stream",
     "text": [
      "                                          categories          date  \\\n",
      "0  [Online PvPLAN, PvPOnline Co-opLAN, Co-opCross...  Nov 16, 2018   \n",
      "1  [Steam Achievements Full, controller supportSt...  Aug 21, 2012   \n",
      "2  [MMOOnline PvPOnline, Co-opSteam Achievements ...   Aug 3, 2020   \n",
      "\n",
      "                          developer  \\\n",
      "0                        Innersloth   \n",
      "1  Valve, Hidden Path Entertainment   \n",
      "2                        Mediatonic   \n",
      "\n",
      "                                           full_desc  \\\n",
      "0  (About This Game Play with 4-10 player online ...   \n",
      "1  (About This Game Counter-Strike: Global Offens...   \n",
      "2  (About This Game Fall Guys: Ultimate Knockout ...   \n",
      "\n",
      "                                             img_url  \\\n",
      "0  https://steamcdn-a.akamaihd.net/steam/apps/945...   \n",
      "1  https://steamcdn-a.akamaihd.net/steam/apps/730...   \n",
      "2  https://steamcdn-a.akamaihd.net/steam/apps/109...   \n",
      "\n",
      "                               name  pegi  \\\n",
      "0                          Among Us  None   \n",
      "1  Counter-Strike: Global Offensive  None   \n",
      "2      Fall Guys: Ultimate Knockout  None   \n",
      "\n",
      "                                           popu_tags price         publisher  \\\n",
      "0  [Multiplayer, Online, Space, Social, Deduction...   499        Innersloth   \n",
      "1  [Shooter, Multiplayer, Competitive, Action, Te...  free             Valve   \n",
      "2  [Multiplayer, Funny, Battle, Royale, Online, F...   199  Devolver Digital   \n",
      "\n",
      "                                        requirements  \\\n",
      "0  ((None, None, (,  1 ,  Windows 7 SP1+,  SSE2 i...   \n",
      "1  ((( nVidia GeForce 8600/9600GT, ATI/AMD Radeon...   \n",
      "2                                       (None, None)   \n",
      "\n",
      "                                            url_info  \n",
      "0  (945360, app, https://store.steampowered.com/a...  \n",
      "1  (730, app, https://store.steampowered.com/app/...  \n",
      "2  (1097150, app, https://store.steampowered.com/..."
     ]
    }
   ],
   "source": [
    "pd.set_option('display.max_columns', None)\n",
    "games.limit(3).toPandas()"
   ]
  },
  {
   "cell_type": "code",
   "execution_count": 4,
   "id": "11ce8574-96d3-40e6-8162-0a19739f28fd",
   "metadata": {
    "execution": {
     "iopub.execute_input": "2022-11-23T23:10:52.849903Z",
     "iopub.status.busy": "2022-11-23T23:10:52.849111Z",
     "iopub.status.idle": "2022-11-23T23:10:53.192003Z",
     "shell.execute_reply": "2022-11-23T23:10:53.189376Z",
     "shell.execute_reply.started": "2022-11-23T23:10:52.849859Z"
    },
    "tags": []
   },
   "outputs": [
    {
     "data": {
      "application/vnd.jupyter.widget-view+json": {
       "model_id": "64cd0b79e8c441c0b57dbfda4ec2cf7c",
       "version_major": 2,
       "version_minor": 0
      },
      "text/plain": [
       "VBox()"
      ]
     },
     "metadata": {},
     "output_type": "display_data"
    },
    {
     "data": {
      "application/vnd.jupyter.widget-view+json": {
       "model_id": "",
       "version_major": 2,
       "version_minor": 0
      },
      "text/plain": [
       "FloatProgress(value=0.0, bar_style='info', description='Progress:', layout=Layout(height='25px', width='50%'),…"
      ]
     },
     "metadata": {},
     "output_type": "display_data"
    }
   ],
   "source": [
    "# here we drop duplicates of games name and dropping null values for game_name\n",
    "games_no_dups = games.dropDuplicates(subset=['name']).dropna(subset=['name']) #.withColumn('game_id', monotonically_increasing_id())"
   ]
  },
  {
   "cell_type": "markdown",
   "id": "9a32a968-1bc6-4609-a2cf-ff64a399042d",
   "metadata": {
    "tags": []
   },
   "source": [
    "### Now it's time to work with the reviews data"
   ]
  },
  {
   "cell_type": "code",
   "execution_count": 5,
   "id": "e21930d2-e33a-48bc-9934-a23fe65fb5f6",
   "metadata": {
    "execution": {
     "iopub.execute_input": "2022-11-23T23:10:53.195806Z",
     "iopub.status.busy": "2022-11-23T23:10:53.193837Z",
     "iopub.status.idle": "2022-11-23T23:10:53.548682Z",
     "shell.execute_reply": "2022-11-23T23:10:53.547772Z",
     "shell.execute_reply.started": "2022-11-23T23:10:53.195722Z"
    },
    "tags": []
   },
   "outputs": [
    {
     "data": {
      "application/vnd.jupyter.widget-view+json": {
       "model_id": "f2d8587b59764a12b885626ddd280cf5",
       "version_major": 2,
       "version_minor": 0
      },
      "text/plain": [
       "VBox()"
      ]
     },
     "metadata": {},
     "output_type": "display_data"
    },
    {
     "data": {
      "application/vnd.jupyter.widget-view+json": {
       "model_id": "",
       "version_major": 2,
       "version_minor": 0
      },
      "text/plain": [
       "FloatProgress(value=0.0, bar_style='info', description='Progress:', layout=Layout(height='25px', width='50%'),…"
      ]
     },
     "metadata": {},
     "output_type": "display_data"
    }
   ],
   "source": [
    "# here we define a schema for the csv\n",
    "schema_reviews = R([\n",
    "    Fld('1st_col',Int()), \n",
    "    Fld('game_id',Str()),\n",
    "    Fld('game_name',Str()), \n",
    "    Fld('review_id',Str()),\n",
    "    Fld('language',Str()),   \n",
    "    Fld('review',Str()),    \n",
    "    Fld('timestamp_created',Dbl()),    \n",
    "    Fld('timestamp_updated',Dbl()),   \n",
    "    Fld('recommended',Bool()),        \n",
    "    Fld('votes_helpful',Int()),        \n",
    "    Fld('votes_funny',Int()),        \n",
    "    Fld('weighted_vote_score',Flt()),        \n",
    "    Fld('comment_count',Int()),\n",
    "    Fld('steam_purchase',Bool()),            \n",
    "    Fld('received_for_free',Bool()),  \n",
    "    Fld('written_during_early_access',Bool()),             \n",
    "    Fld('author_steamid',Str()),            \n",
    "    Fld('author_num_games_owned',Int()),\n",
    "    Fld('author_num_reviews',Int()),                \n",
    "    Fld('author_playtime_forever',Flt()),                \n",
    "    Fld('author_playtime_last_two_weeks',Flt()),\n",
    "    Fld('author_playtime_at_review',Flt()),                    \n",
    "    Fld('author_last_played',Dbl())  \n",
    "])\n",
    "                        "
   ]
  },
  {
   "cell_type": "code",
   "execution_count": 6,
   "id": "1005bf04-a9d8-4670-b003-7d2cfadf3b8a",
   "metadata": {
    "execution": {
     "iopub.execute_input": "2022-11-23T23:10:53.556610Z",
     "iopub.status.busy": "2022-11-23T23:10:53.556151Z",
     "iopub.status.idle": "2022-11-23T23:10:54.138092Z",
     "shell.execute_reply": "2022-11-23T23:10:54.137240Z",
     "shell.execute_reply.started": "2022-11-23T23:10:53.556432Z"
    },
    "tags": []
   },
   "outputs": [
    {
     "data": {
      "application/vnd.jupyter.widget-view+json": {
       "model_id": "84552d8cc1334b808cad6bdd118a2059",
       "version_major": 2,
       "version_minor": 0
      },
      "text/plain": [
       "VBox()"
      ]
     },
     "metadata": {},
     "output_type": "display_data"
    },
    {
     "data": {
      "application/vnd.jupyter.widget-view+json": {
       "model_id": "",
       "version_major": 2,
       "version_minor": 0
      },
      "text/plain": [
       "FloatProgress(value=0.0, bar_style='info', description='Progress:', layout=Layout(height='25px', width='50%'),…"
      ]
     },
     "metadata": {},
     "output_type": "display_data"
    }
   ],
   "source": [
    "reviews = spark.read.csv('s3://mussa-bucket/steam_reviews.csv',header=True, schema=schema_reviews)\n"
   ]
  },
  {
   "cell_type": "code",
   "execution_count": 20,
   "id": "4062619c-9e3d-4f3a-86c2-b3a43e7b43a7",
   "metadata": {
    "execution": {
     "iopub.execute_input": "2022-11-23T14:40:21.186556Z",
     "iopub.status.busy": "2022-11-23T14:40:21.186161Z",
     "iopub.status.idle": "2022-11-23T14:40:42.979849Z",
     "shell.execute_reply": "2022-11-23T14:40:42.977789Z",
     "shell.execute_reply.started": "2022-11-23T14:40:21.186525Z"
    },
    "tags": []
   },
   "outputs": [
    {
     "data": {
      "application/vnd.jupyter.widget-view+json": {
       "model_id": "8b5d2a11b4d343e9ae4895cbb8312004",
       "version_major": 2,
       "version_minor": 0
      },
      "text/plain": [
       "VBox()"
      ]
     },
     "metadata": {},
     "output_type": "display_data"
    },
    {
     "data": {
      "application/vnd.jupyter.widget-view+json": {
       "model_id": "",
       "version_major": 2,
       "version_minor": 0
      },
      "text/plain": [
       "FloatProgress(value=0.0, bar_style='info', description='Progress:', layout=Layout(height='25px', width='50%'),…"
      ]
     },
     "metadata": {},
     "output_type": "display_data"
    },
    {
     "name": "stdout",
     "output_type": "stream",
     "text": [
      "40848659"
     ]
    }
   ],
   "source": [
    "# let's see how big is the data\n",
    "reviews.count()"
   ]
  },
  {
   "cell_type": "markdown",
   "id": "3f29a6cf-8787-410a-9025-deecab55b60c",
   "metadata": {
    "tags": []
   },
   "source": [
    "#### Well not too much data I suppose!\n",
    "#### we will start working on the data and in the end we are going to be left with less records"
   ]
  },
  {
   "cell_type": "code",
   "execution_count": 21,
   "id": "26a12952-2e32-4105-a05e-f5c516eec3e2",
   "metadata": {
    "execution": {
     "iopub.execute_input": "2022-11-23T14:40:45.566187Z",
     "iopub.status.busy": "2022-11-23T14:40:45.565876Z",
     "iopub.status.idle": "2022-11-23T14:40:46.242879Z",
     "shell.execute_reply": "2022-11-23T14:40:46.238434Z",
     "shell.execute_reply.started": "2022-11-23T14:40:45.566159Z"
    },
    "tags": []
   },
   "outputs": [
    {
     "data": {
      "application/vnd.jupyter.widget-view+json": {
       "model_id": "d9def177da18474c8cf8a460b9b78da9",
       "version_major": 2,
       "version_minor": 0
      },
      "text/plain": [
       "VBox()"
      ]
     },
     "metadata": {},
     "output_type": "display_data"
    },
    {
     "data": {
      "application/vnd.jupyter.widget-view+json": {
       "model_id": "",
       "version_major": 2,
       "version_minor": 0
      },
      "text/plain": [
       "FloatProgress(value=0.0, bar_style='info', description='Progress:', layout=Layout(height='25px', width='50%'),…"
      ]
     },
     "metadata": {},
     "output_type": "display_data"
    },
    {
     "name": "stdout",
     "output_type": "stream",
     "text": [
      "   1st_col game_id                 game_name review_id  language  \\\n",
      "0        0  292030  The Witcher 3: Wild Hunt  85185598  schinese   \n",
      "1        1  292030  The Witcher 3: Wild Hunt  85185250  schinese   \n",
      "2        2  292030  The Witcher 3: Wild Hunt  85185111  schinese   \n",
      "\n",
      "                    review  timestamp_created  timestamp_updated  recommended  \\\n",
      "0  不玩此生遗憾，RPG游戏里的天花板，太吸引人了       1.611382e+09       1.611382e+09         True   \n",
      "1       拔DIAO无情打桩机--杰洛特!!!       1.611381e+09       1.611381e+09         True   \n",
      "2                    巫师3NB       1.611381e+09       1.611381e+09         True   \n",
      "\n",
      "   votes_helpful  votes_funny  weighted_vote_score  comment_count  \\\n",
      "0              0            0                  0.0              0   \n",
      "1              0            0                  0.0              0   \n",
      "2              0            0                  0.0              0   \n",
      "\n",
      "   steam_purchase  received_for_free  written_during_early_access  \\\n",
      "0            True              False                        False   \n",
      "1            True              False                        False   \n",
      "2            True              False                        False   \n",
      "\n",
      "      author_steamid  author_num_games_owned  author_num_reviews  \\\n",
      "0  76561199095369542                       6                   2   \n",
      "1  76561198949504115                      30                  10   \n",
      "2  76561199090098988                       5                   1   \n",
      "\n",
      "   author_playtime_forever  author_playtime_last_two_weeks  \\\n",
      "0                   1909.0                          1448.0   \n",
      "1                   2764.0                          2743.0   \n",
      "2                   1061.0                          1061.0   \n",
      "\n",
      "   author_playtime_at_review  author_last_played  \n",
      "0                     1909.0        1.611343e+09  \n",
      "1                     2674.0        1.611386e+09  \n",
      "2                     1060.0        1.611384e+09"
     ]
    }
   ],
   "source": [
    "reviews.limit(3).toPandas()"
   ]
  },
  {
   "cell_type": "code",
   "execution_count": null,
   "id": "be73e236-7916-4bab-b65d-c5e3e71aa366",
   "metadata": {
    "execution": {
     "iopub.execute_input": "2022-11-22T18:01:26.084989Z",
     "iopub.status.busy": "2022-11-22T18:01:26.084608Z",
     "iopub.status.idle": "2022-11-22T18:01:45.932441Z",
     "shell.execute_reply": "2022-11-22T18:01:45.928352Z",
     "shell.execute_reply.started": "2022-11-22T18:01:26.084959Z"
    },
    "tags": []
   },
   "outputs": [
    {
     "data": {
      "application/vnd.jupyter.widget-view+json": {
       "model_id": "",
       "version_major": 2,
       "version_minor": 0
      },
      "text/plain": [
       "VBox()"
      ]
     },
     "metadata": {},
     "output_type": "display_data"
    },
    {
     "data": {
      "application/vnd.jupyter.widget-view+json": {
       "model_id": "",
       "version_major": 2,
       "version_minor": 0
      },
      "text/plain": [
       "FloatProgress(value=0.0, bar_style='info', description='Progress:', layout=Layout(height='25px', width='50%'),…"
      ]
     },
     "metadata": {},
     "output_type": "display_data"
    },
    {
     "name": "stdout",
     "output_type": "stream",
     "text": [
      "+--------+--------+\n",
      "|language|   count|\n",
      "+--------+--------+\n",
      "|    null|14498420|\n",
      "| english| 9635437|\n",
      "|schinese| 3764967|\n",
      "| russian| 2348900|\n",
      "|       0| 1389226|\n",
      "+--------+--------+\n",
      "only showing top 5 rows"
     ]
    }
   ],
   "source": [
    "# let's discover the languages available in our data\n",
    "reviews.groupby('language').count().orderBy('count', ascending=False).show(5)"
   ]
  },
  {
   "cell_type": "markdown",
   "id": "44a07863-2ef5-4b9e-92ba-2fe0ae7962c4",
   "metadata": {},
   "source": [
    "#### We can see that there is a huge amount of nulls, Moreover, reviews in languages other than English\n",
    "#### won't be understandable to me given my humble knowledge, so we will drop the nulls and keep English reviews,\n",
    "#### so if you want a specific language feel free to add it to the next filter that we are going to apply"
   ]
  },
  {
   "cell_type": "code",
   "execution_count": 7,
   "id": "cb91d959-76d7-4278-bedd-50cb692f2133",
   "metadata": {
    "execution": {
     "iopub.execute_input": "2022-11-23T23:10:54.143416Z",
     "iopub.status.busy": "2022-11-23T23:10:54.143115Z",
     "iopub.status.idle": "2022-11-23T23:10:54.637675Z",
     "shell.execute_reply": "2022-11-23T23:10:54.636641Z",
     "shell.execute_reply.started": "2022-11-23T23:10:54.143387Z"
    },
    "tags": []
   },
   "outputs": [
    {
     "data": {
      "application/vnd.jupyter.widget-view+json": {
       "model_id": "59647d8b5c5a4207909d8d110a7fa8b7",
       "version_major": 2,
       "version_minor": 0
      },
      "text/plain": [
       "VBox()"
      ]
     },
     "metadata": {},
     "output_type": "display_data"
    },
    {
     "data": {
      "application/vnd.jupyter.widget-view+json": {
       "model_id": "",
       "version_major": 2,
       "version_minor": 0
      },
      "text/plain": [
       "FloatProgress(value=0.0, bar_style='info', description='Progress:', layout=Layout(height='25px', width='50%'),…"
      ]
     },
     "metadata": {},
     "output_type": "display_data"
    }
   ],
   "source": [
    "# taking only English language and dropping null values\n",
    "reviews_english = reviews.filter(\"language ='english'\").dropna()\n"
   ]
  },
  {
   "cell_type": "code",
   "execution_count": 25,
   "id": "ccff25ef-7435-4490-97bc-86d2ca62b9eb",
   "metadata": {
    "execution": {
     "iopub.execute_input": "2022-11-23T14:43:09.431034Z",
     "iopub.status.busy": "2022-11-23T14:43:09.430156Z",
     "iopub.status.idle": "2022-11-23T14:44:24.285100Z",
     "shell.execute_reply": "2022-11-23T14:44:24.284186Z",
     "shell.execute_reply.started": "2022-11-23T14:43:09.430963Z"
    },
    "tags": []
   },
   "outputs": [
    {
     "data": {
      "application/vnd.jupyter.widget-view+json": {
       "model_id": "e3a4af063ee446c5b40e95cea9f39b86",
       "version_major": 2,
       "version_minor": 0
      },
      "text/plain": [
       "VBox()"
      ]
     },
     "metadata": {},
     "output_type": "display_data"
    },
    {
     "data": {
      "application/vnd.jupyter.widget-view+json": {
       "model_id": "",
       "version_major": 2,
       "version_minor": 0
      },
      "text/plain": [
       "FloatProgress(value=0.0, bar_style='info', description='Progress:', layout=Layout(height='25px', width='50%'),…"
      ]
     },
     "metadata": {},
     "output_type": "display_data"
    },
    {
     "name": "stdout",
     "output_type": "stream",
     "text": [
      "40009"
     ]
    }
   ],
   "source": [
    "# since review_id is going to be a primary key to our fact table, we want to check if it has duplicates\n",
    "reviews_english.groupby('review_id').count().orderBy('count', ascending=False).filter('count > 1').count()"
   ]
  },
  {
   "cell_type": "code",
   "execution_count": 8,
   "id": "461dffc5-8a4c-4835-bc28-cf3f54de17f0",
   "metadata": {
    "execution": {
     "iopub.execute_input": "2022-11-23T23:10:54.639640Z",
     "iopub.status.busy": "2022-11-23T23:10:54.638982Z",
     "iopub.status.idle": "2022-11-23T23:10:55.023308Z",
     "shell.execute_reply": "2022-11-23T23:10:55.021505Z",
     "shell.execute_reply.started": "2022-11-23T23:10:54.639599Z"
    },
    "tags": []
   },
   "outputs": [
    {
     "data": {
      "application/vnd.jupyter.widget-view+json": {
       "model_id": "0cde834b97324607b36c8b98116d4728",
       "version_major": 2,
       "version_minor": 0
      },
      "text/plain": [
       "VBox()"
      ]
     },
     "metadata": {},
     "output_type": "display_data"
    },
    {
     "data": {
      "application/vnd.jupyter.widget-view+json": {
       "model_id": "",
       "version_major": 2,
       "version_minor": 0
      },
      "text/plain": [
       "FloatProgress(value=0.0, bar_style='info', description='Progress:', layout=Layout(height='25px', width='50%'),…"
      ]
     },
     "metadata": {},
     "output_type": "display_data"
    }
   ],
   "source": [
    "# dropping the duplicates\n",
    "r_eng_no_dups = reviews_english.dropDuplicates(subset=[\"review_id\"])"
   ]
  },
  {
   "cell_type": "code",
   "execution_count": 18,
   "id": "f22ae03b-a98f-4215-ad7a-4e603187adc2",
   "metadata": {
    "execution": {
     "iopub.execute_input": "2022-11-23T18:00:41.356270Z",
     "iopub.status.busy": "2022-11-23T18:00:41.355665Z",
     "iopub.status.idle": "2022-11-23T18:02:08.483682Z",
     "shell.execute_reply": "2022-11-23T18:02:08.481147Z",
     "shell.execute_reply.started": "2022-11-23T18:00:41.356224Z"
    },
    "tags": []
   },
   "outputs": [
    {
     "data": {
      "application/vnd.jupyter.widget-view+json": {
       "model_id": "c0d7aa2106cb4a92af0bbcfc84adb272",
       "version_major": 2,
       "version_minor": 0
      },
      "text/plain": [
       "VBox()"
      ]
     },
     "metadata": {},
     "output_type": "display_data"
    },
    {
     "data": {
      "application/vnd.jupyter.widget-view+json": {
       "model_id": "",
       "version_major": 2,
       "version_minor": 0
      },
      "text/plain": [
       "FloatProgress(value=0.0, bar_style='info', description='Progress:', layout=Layout(height='25px', width='50%'),…"
      ]
     },
     "metadata": {},
     "output_type": "display_data"
    },
    {
     "name": "stdout",
     "output_type": "stream",
     "text": [
      "0"
     ]
    }
   ],
   "source": [
    "# check\n",
    "r_eng_no_dups.groupby('review_id').count().orderBy('count', ascending=False).filter('count > 1').count()"
   ]
  },
  {
   "cell_type": "markdown",
   "id": "3053429d-ad78-4551-8007-7c411ea6e1d3",
   "metadata": {
    "tags": []
   },
   "source": [
    "### Step 3: Define the Data Model\n",
    "####  Conceptual Data Model\n",
    "the data model here is quite simple, consisting of one fact table which is reviews with review_id as primary key,\n",
    "and 2 dimension tables which are the games table with game_name as primary key, and the review authors table\n",
    "with author_steamid  as primary key\n",
    "\n",
    "#### fact table -> reviews:\n",
    "\n",
    "| column | description |\n",
    "| :-- | :-- |\n",
    "| review_id (string) |primary key for review ids\n",
    "| game_id (string) | game id |\n",
    "| game_name (string) | game name |\n",
    "| review (string) | review body |\n",
    "| timestamp_created (double) | time of review publishing |\n",
    "| recommended (bool) | whether the reviewer recommends the game or not |\n",
    "| votes_helpful (integer) | number of votes praising the review |\n",
    "| weighted_vote_score (float) | a score based on number of helpful votes |\n",
    "| comment_count (integer) | number of comments in a review |\n",
    "| steam_purchase (bool) | wether or not the game was purchased on steam |\n",
    "| received_for_free (bool) | wether or not the game was received for free |\n",
    "| written_during_early_access (bool) | Whether or not the review was written during early access |\n",
    "| author_steamid (string) | id of the reviewer |\n",
    "| author_playtime_at_review (float) | reviewer playtime of reviewed game at time of review |\n",
    "\n"
   ]
  },
  {
   "cell_type": "markdown",
   "id": "fcdd1d04-207d-4cf2-a178-e2f36052eb4d",
   "metadata": {},
   "source": [
    "#### dimension tables:\n",
    "\n",
    "##### 1.games:\n",
    "| column | description |\n",
    "| ------ | ------ |\n",
    "| name(string) | title of the game |\n",
    "| categories(array of string) | categories of the game |\n",
    "| date(string) | game's date of release |\n",
    "| developer(string) | game's developer |\n",
    "| full_desc(struct of string) | full description |\n",
    "| pegi(struct) | adult content rating  |\n",
    "| popu_tags(array of string) | popular tags  |\n",
    "| price(string) | initial price of sales |\n",
    "| publisher(string) | publisher of the game |\n",
    "\n",
    "##### 2.authors:\n",
    "| column | description |\n",
    "| ------ | :------: |\n",
    "| author_steamid(string) | reviewer id |\n",
    "| author_num_games_owned(integer) | number of games owned by the reviewer |\n",
    "| author_num_reviews(integer) | number of reviews published by the reviewer |\n",
    "| author_playtime_forever(float) | total playtime of all games owned by the reviewer |\n"
   ]
  },
  {
   "cell_type": "code",
   "execution_count": null,
   "id": "48f9730d-89b2-4e40-bae3-a1777d642c75",
   "metadata": {},
   "outputs": [],
   "source": []
  },
  {
   "cell_type": "markdown",
   "id": "58e7b93f-f25b-4e57-833d-7753ceb460c9",
   "metadata": {},
   "source": [
    "### Step 4: Run Pipelines to Model the Data \n",
    "#### Create the data model"
   ]
  },
  {
   "cell_type": "code",
   "execution_count": 19,
   "id": "d77a9c3d-4e26-4f82-b849-88e8ae7f5396",
   "metadata": {
    "execution": {
     "iopub.execute_input": "2022-11-23T23:39:52.725082Z",
     "iopub.status.busy": "2022-11-23T23:39:52.724349Z",
     "iopub.status.idle": "2022-11-23T23:39:53.042030Z",
     "shell.execute_reply": "2022-11-23T23:39:53.040334Z",
     "shell.execute_reply.started": "2022-11-23T23:39:52.725031Z"
    },
    "tags": []
   },
   "outputs": [
    {
     "data": {
      "application/vnd.jupyter.widget-view+json": {
       "model_id": "17d0384349fb42f7a63af0685dbc870b",
       "version_major": 2,
       "version_minor": 0
      },
      "text/plain": [
       "VBox()"
      ]
     },
     "metadata": {},
     "output_type": "display_data"
    },
    {
     "data": {
      "application/vnd.jupyter.widget-view+json": {
       "model_id": "",
       "version_major": 2,
       "version_minor": 0
      },
      "text/plain": [
       "FloatProgress(value=0.0, bar_style='info', description='Progress:', layout=Layout(height='25px', width='50%'),…"
      ]
     },
     "metadata": {},
     "output_type": "display_data"
    }
   ],
   "source": [
    "games_final = games_no_dups.select('name', 'categories', 'date', 'developer', 'full_desc','pegi', 'popu_tags', 'price','publisher')"
   ]
  },
  {
   "cell_type": "code",
   "execution_count": 15,
   "id": "6eae87c4-88ea-435a-ab33-a4780bd755f7",
   "metadata": {
    "execution": {
     "iopub.execute_input": "2022-11-23T23:38:02.732978Z",
     "iopub.status.busy": "2022-11-23T23:38:02.732554Z",
     "iopub.status.idle": "2022-11-23T23:38:03.202707Z",
     "shell.execute_reply": "2022-11-23T23:38:03.201411Z",
     "shell.execute_reply.started": "2022-11-23T23:38:02.732945Z"
    }
   },
   "outputs": [
    {
     "data": {
      "application/vnd.jupyter.widget-view+json": {
       "model_id": "7092391a18dd430994143dd93dda331c",
       "version_major": 2,
       "version_minor": 0
      },
      "text/plain": [
       "VBox()"
      ]
     },
     "metadata": {},
     "output_type": "display_data"
    },
    {
     "data": {
      "application/vnd.jupyter.widget-view+json": {
       "model_id": "",
       "version_major": 2,
       "version_minor": 0
      },
      "text/plain": [
       "FloatProgress(value=0.0, bar_style='info', description='Progress:', layout=Layout(height='25px', width='50%'),…"
      ]
     },
     "metadata": {},
     "output_type": "display_data"
    }
   ],
   "source": [
    "reviews_final = r_eng_no_dups.select('review_id', 'game_id', 'game_name', 'review', 'timestamp_created', 'recommended', 'votes_helpful',\n",
    "                           'weighted_vote_score', 'comment_count', 'steam_purchase', 'received_for_free', 'written_during_early_access',\n",
    "                           'author_steamid','author_playtime_at_review')"
   ]
  },
  {
   "cell_type": "code",
   "execution_count": 16,
   "id": "5db0969d-6538-499a-91bc-9106ff3b304d",
   "metadata": {
    "execution": {
     "iopub.execute_input": "2022-11-23T23:38:03.233469Z",
     "iopub.status.busy": "2022-11-23T23:38:03.233130Z",
     "iopub.status.idle": "2022-11-23T23:38:03.590385Z",
     "shell.execute_reply": "2022-11-23T23:38:03.589566Z",
     "shell.execute_reply.started": "2022-11-23T23:38:03.233438Z"
    }
   },
   "outputs": [
    {
     "data": {
      "application/vnd.jupyter.widget-view+json": {
       "model_id": "b651b62352d84ba4b27d812b93c6edfb",
       "version_major": 2,
       "version_minor": 0
      },
      "text/plain": [
       "VBox()"
      ]
     },
     "metadata": {},
     "output_type": "display_data"
    },
    {
     "data": {
      "application/vnd.jupyter.widget-view+json": {
       "model_id": "",
       "version_major": 2,
       "version_minor": 0
      },
      "text/plain": [
       "FloatProgress(value=0.0, bar_style='info', description='Progress:', layout=Layout(height='25px', width='50%'),…"
      ]
     },
     "metadata": {},
     "output_type": "display_data"
    }
   ],
   "source": [
    "authors = r_eng_no_dups.dropDuplicates(subset=['author_steamid'])\\\n",
    "                        .select('author_steamid', 'author_num_games_owned', 'author_num_reviews',\n",
    "                                'author_playtime_forever')"
   ]
  },
  {
   "cell_type": "markdown",
   "id": "3970ecd1-3a65-4ed6-a643-abafbdbe25a7",
   "metadata": {},
   "source": [
    "### now we write all tables back to s3 as parquet files"
   ]
  },
  {
   "cell_type": "code",
   "execution_count": 11,
   "id": "5cad3da3-3250-40a5-be30-1a2b0a0ca000",
   "metadata": {
    "execution": {
     "iopub.execute_input": "2022-11-23T18:03:55.948095Z",
     "iopub.status.busy": "2022-11-23T18:03:55.947034Z",
     "iopub.status.idle": "2022-11-23T18:04:07.981216Z",
     "shell.execute_reply": "2022-11-23T18:04:07.980217Z",
     "shell.execute_reply.started": "2022-11-23T18:03:55.948050Z"
    },
    "tags": []
   },
   "outputs": [
    {
     "data": {
      "application/vnd.jupyter.widget-view+json": {
       "model_id": "d8e87363712045fa9513ee4ec20ac818",
       "version_major": 2,
       "version_minor": 0
      },
      "text/plain": [
       "VBox()"
      ]
     },
     "metadata": {},
     "output_type": "display_data"
    },
    {
     "data": {
      "application/vnd.jupyter.widget-view+json": {
       "model_id": "",
       "version_major": 2,
       "version_minor": 0
      },
      "text/plain": [
       "FloatProgress(value=0.0, bar_style='info', description='Progress:', layout=Layout(height='25px', width='50%'),…"
      ]
     },
     "metadata": {},
     "output_type": "display_data"
    }
   ],
   "source": [
    "games_final.write.mode('overwrite').parquet('s3://mussa-bucket/data_parquet/games.parquet')"
   ]
  },
  {
   "cell_type": "code",
   "execution_count": 14,
   "id": "e78412df-4ab4-4376-93f5-6a8df19df6eb",
   "metadata": {
    "execution": {
     "iopub.execute_input": "2022-11-23T18:05:57.346665Z",
     "iopub.status.busy": "2022-11-23T18:05:57.345689Z",
     "iopub.status.idle": "2022-11-23T18:07:34.399121Z",
     "shell.execute_reply": "2022-11-23T18:07:34.397732Z",
     "shell.execute_reply.started": "2022-11-23T18:05:57.346594Z"
    },
    "tags": []
   },
   "outputs": [
    {
     "data": {
      "application/vnd.jupyter.widget-view+json": {
       "model_id": "ee7539a0324f43e2a7296643c8764f8c",
       "version_major": 2,
       "version_minor": 0
      },
      "text/plain": [
       "VBox()"
      ]
     },
     "metadata": {},
     "output_type": "display_data"
    },
    {
     "data": {
      "application/vnd.jupyter.widget-view+json": {
       "model_id": "",
       "version_major": 2,
       "version_minor": 0
      },
      "text/plain": [
       "FloatProgress(value=0.0, bar_style='info', description='Progress:', layout=Layout(height='25px', width='50%'),…"
      ]
     },
     "metadata": {},
     "output_type": "display_data"
    }
   ],
   "source": [
    "reviews_final.write.mode('overwrite').parquet('s3://mussa-bucket/data_parquet/reviews.parquet')"
   ]
  },
  {
   "cell_type": "code",
   "execution_count": 21,
   "id": "2cb5f1fd-4d1a-45f7-89db-aeca640f5cc0",
   "metadata": {
    "execution": {
     "iopub.execute_input": "2022-11-23T18:10:31.014603Z",
     "iopub.status.busy": "2022-11-23T18:10:31.013618Z",
     "iopub.status.idle": "2022-11-23T18:12:02.258966Z",
     "shell.execute_reply": "2022-11-23T18:12:02.257009Z",
     "shell.execute_reply.started": "2022-11-23T18:10:31.014555Z"
    },
    "tags": []
   },
   "outputs": [
    {
     "data": {
      "application/vnd.jupyter.widget-view+json": {
       "model_id": "058b46a47a1e42b3be007ed521721cd3",
       "version_major": 2,
       "version_minor": 0
      },
      "text/plain": [
       "VBox()"
      ]
     },
     "metadata": {},
     "output_type": "display_data"
    },
    {
     "data": {
      "application/vnd.jupyter.widget-view+json": {
       "model_id": "",
       "version_major": 2,
       "version_minor": 0
      },
      "text/plain": [
       "FloatProgress(value=0.0, bar_style='info', description='Progress:', layout=Layout(height='25px', width='50%'),…"
      ]
     },
     "metadata": {},
     "output_type": "display_data"
    }
   ],
   "source": [
    "authors.write.mode('overwrite').parquet('s3://mussa-bucket/data_parquet/authors.parquet')"
   ]
  },
  {
   "cell_type": "markdown",
   "id": "570a7735-f286-41f8-a001-127372591cf8",
   "metadata": {},
   "source": [
    "### now we reload our parquet data and do some quality checks"
   ]
  },
  {
   "cell_type": "code",
   "execution_count": 33,
   "id": "a58f00fd-2210-43c1-9916-a645e3af3d93",
   "metadata": {
    "execution": {
     "iopub.execute_input": "2022-11-23T18:42:36.905952Z",
     "iopub.status.busy": "2022-11-23T18:42:36.905579Z",
     "iopub.status.idle": "2022-11-23T18:42:37.932561Z",
     "shell.execute_reply": "2022-11-23T18:42:37.931697Z",
     "shell.execute_reply.started": "2022-11-23T18:42:36.905922Z"
    }
   },
   "outputs": [
    {
     "data": {
      "application/vnd.jupyter.widget-view+json": {
       "model_id": "7d57dabe700948838eb88b80862cda56",
       "version_major": 2,
       "version_minor": 0
      },
      "text/plain": [
       "VBox()"
      ]
     },
     "metadata": {},
     "output_type": "display_data"
    },
    {
     "data": {
      "application/vnd.jupyter.widget-view+json": {
       "model_id": "",
       "version_major": 2,
       "version_minor": 0
      },
      "text/plain": [
       "FloatProgress(value=0.0, bar_style='info', description='Progress:', layout=Layout(height='25px', width='50%'),…"
      ]
     },
     "metadata": {},
     "output_type": "display_data"
    }
   ],
   "source": [
    "games1 = spark.read.parquet('s3://mussa-bucket/data_parquet/games.parquet')"
   ]
  },
  {
   "cell_type": "code",
   "execution_count": 34,
   "id": "092a2ac9-3d6e-4fd1-8763-6c963dbfabbb",
   "metadata": {
    "execution": {
     "iopub.execute_input": "2022-11-23T18:42:38.245320Z",
     "iopub.status.busy": "2022-11-23T18:42:38.244989Z",
     "iopub.status.idle": "2022-11-23T18:42:39.253874Z",
     "shell.execute_reply": "2022-11-23T18:42:39.252576Z",
     "shell.execute_reply.started": "2022-11-23T18:42:38.245289Z"
    }
   },
   "outputs": [
    {
     "data": {
      "application/vnd.jupyter.widget-view+json": {
       "model_id": "39a805d4a15e4712a3a9162f86759515",
       "version_major": 2,
       "version_minor": 0
      },
      "text/plain": [
       "VBox()"
      ]
     },
     "metadata": {},
     "output_type": "display_data"
    },
    {
     "data": {
      "application/vnd.jupyter.widget-view+json": {
       "model_id": "",
       "version_major": 2,
       "version_minor": 0
      },
      "text/plain": [
       "FloatProgress(value=0.0, bar_style='info', description='Progress:', layout=Layout(height='25px', width='50%'),…"
      ]
     },
     "metadata": {},
     "output_type": "display_data"
    }
   ],
   "source": [
    "reviews1 = spark.read.parquet('s3://mussa-bucket/data_parquet/reviews.parquet')"
   ]
  },
  {
   "cell_type": "code",
   "execution_count": 31,
   "id": "cfb70927-67f4-4f26-99b1-90c83ff6bd97",
   "metadata": {
    "execution": {
     "iopub.execute_input": "2022-11-23T18:42:00.241922Z",
     "iopub.status.busy": "2022-11-23T18:42:00.241556Z",
     "iopub.status.idle": "2022-11-23T18:42:08.169657Z",
     "shell.execute_reply": "2022-11-23T18:42:08.163649Z",
     "shell.execute_reply.started": "2022-11-23T18:42:00.241889Z"
    },
    "tags": []
   },
   "outputs": [
    {
     "data": {
      "application/vnd.jupyter.widget-view+json": {
       "model_id": "463a915bd4934195a932dd466c44a12b",
       "version_major": 2,
       "version_minor": 0
      },
      "text/plain": [
       "VBox()"
      ]
     },
     "metadata": {},
     "output_type": "display_data"
    },
    {
     "data": {
      "application/vnd.jupyter.widget-view+json": {
       "model_id": "",
       "version_major": 2,
       "version_minor": 0
      },
      "text/plain": [
       "FloatProgress(value=0.0, bar_style='info', description='Progress:', layout=Layout(height='25px', width='50%'),…"
      ]
     },
     "metadata": {},
     "output_type": "display_data"
    }
   ],
   "source": [
    "authors1 = spark.read.parquet('s3://mussa-bucket/data_parquet/authors.parquet')"
   ]
  },
  {
   "cell_type": "markdown",
   "id": "430a839f-833e-4121-ba81-5ac93b5764dd",
   "metadata": {
    "tags": []
   },
   "source": [
    "### Data Quality Checksfor primary keys\n",
    "#### 1) Null check\n",
    "\n",
    " "
   ]
  },
  {
   "cell_type": "code",
   "execution_count": null,
   "id": "970acd7a-d75f-4a4e-8929-2cb48900f4df",
   "metadata": {
    "execution": {
     "iopub.execute_input": "2022-11-23T18:54:11.932472Z",
     "iopub.status.busy": "2022-11-23T18:54:11.932132Z"
    }
   },
   "outputs": [
    {
     "data": {
      "application/vnd.jupyter.widget-view+json": {
       "model_id": "7d9155fad0884a38b95618ab422d1ec5",
       "version_major": 2,
       "version_minor": 0
      },
      "text/plain": [
       "VBox()"
      ]
     },
     "metadata": {},
     "output_type": "display_data"
    },
    {
     "data": {
      "application/vnd.jupyter.widget-view+json": {
       "model_id": "",
       "version_major": 2,
       "version_minor": 0
      },
      "text/plain": [
       "FloatProgress(value=0.0, bar_style='info', description='Progress:', layout=Layout(height='25px', width='50%'),…"
      ]
     },
     "metadata": {},
     "output_type": "display_data"
    },
    {
     "name": "stdout",
     "output_type": "stream",
     "text": [
      "+----+\n",
      "|name|\n",
      "+----+\n",
      "|   0|\n",
      "+----+"
     ]
    }
   ],
   "source": [
    "games1.select(count(when(isnan('name') | col('name').isNull(), 'name')).alias('name')).show()"
   ]
  },
  {
   "cell_type": "code",
   "execution_count": 54,
   "id": "247a7c2e-6f9a-4d8f-9e55-1a3e0c12a67d",
   "metadata": {
    "execution": {
     "iopub.execute_input": "2022-11-23T18:57:45.357975Z",
     "iopub.status.busy": "2022-11-23T18:57:45.357601Z",
     "iopub.status.idle": "2022-11-23T18:57:59.202603Z",
     "shell.execute_reply": "2022-11-23T18:57:59.201517Z",
     "shell.execute_reply.started": "2022-11-23T18:57:45.357943Z"
    },
    "tags": []
   },
   "outputs": [
    {
     "data": {
      "application/vnd.jupyter.widget-view+json": {
       "model_id": "204491945bbb4661b6df3cb732098772",
       "version_major": 2,
       "version_minor": 0
      },
      "text/plain": [
       "VBox()"
      ]
     },
     "metadata": {},
     "output_type": "display_data"
    },
    {
     "data": {
      "application/vnd.jupyter.widget-view+json": {
       "model_id": "",
       "version_major": 2,
       "version_minor": 0
      },
      "text/plain": [
       "FloatProgress(value=0.0, bar_style='info', description='Progress:', layout=Layout(height='25px', width='50%'),…"
      ]
     },
     "metadata": {},
     "output_type": "display_data"
    },
    {
     "name": "stdout",
     "output_type": "stream",
     "text": [
      "+---------+\n",
      "|review_id|\n",
      "+---------+\n",
      "|        0|\n",
      "+---------+"
     ]
    }
   ],
   "source": [
    "reviews1.select(count(when(isnan('review_id') | col('review_id').isNull(), 'review_id')).alias('review_id')).show()"
   ]
  },
  {
   "cell_type": "code",
   "execution_count": 32,
   "id": "aee62ebc-347b-4c3f-b2ca-a24579902f93",
   "metadata": {
    "execution": {
     "iopub.execute_input": "2022-11-23T18:42:11.695754Z",
     "iopub.status.busy": "2022-11-23T18:42:11.695361Z",
     "iopub.status.idle": "2022-11-23T18:42:25.735801Z",
     "shell.execute_reply": "2022-11-23T18:42:25.732788Z",
     "shell.execute_reply.started": "2022-11-23T18:42:11.695716Z"
    },
    "tags": []
   },
   "outputs": [
    {
     "data": {
      "application/vnd.jupyter.widget-view+json": {
       "model_id": "52059aaec2914a2b8069ec52b01169be",
       "version_major": 2,
       "version_minor": 0
      },
      "text/plain": [
       "VBox()"
      ]
     },
     "metadata": {},
     "output_type": "display_data"
    },
    {
     "data": {
      "application/vnd.jupyter.widget-view+json": {
       "model_id": "",
       "version_major": 2,
       "version_minor": 0
      },
      "text/plain": [
       "FloatProgress(value=0.0, bar_style='info', description='Progress:', layout=Layout(height='25px', width='50%'),…"
      ]
     },
     "metadata": {},
     "output_type": "display_data"
    },
    {
     "name": "stdout",
     "output_type": "stream",
     "text": [
      "+--------------+----------------------+------------------+-----------------------+------------------+\n",
      "|author_steamid|author_num_games_owned|author_num_reviews|author_playtime_forever|author_last_played|\n",
      "+--------------+----------------------+------------------+-----------------------+------------------+\n",
      "|             0|                     0|                 0|                      0|                 0|\n",
      "+--------------+----------------------+------------------+-----------------------+------------------+"
     ]
    }
   ],
   "source": [
    "authors1.select([count(when(isnan(c) | col(c).isNull(), c)).alias(c) for c in authors1.columns]\n",
    "   ).show()"
   ]
  },
  {
   "cell_type": "markdown",
   "id": "69c4f3ec-9741-4852-9a4b-b302b50bcd28",
   "metadata": {},
   "source": [
    "#### .......................................................\n",
    "#### 2) duplicates check\n",
    "#### .......................................................\n"
   ]
  },
  {
   "cell_type": "code",
   "execution_count": null,
   "id": "ffd60959-c621-4ba7-a6df-6ae835f332de",
   "metadata": {
    "execution": {
     "iopub.execute_input": "2022-11-23T19:06:38.595051Z",
     "iopub.status.busy": "2022-11-23T19:06:38.594734Z"
    }
   },
   "outputs": [
    {
     "data": {
      "application/vnd.jupyter.widget-view+json": {
       "model_id": "3a459d04ec3b47ef961c008a7c17cc2d",
       "version_major": 2,
       "version_minor": 0
      },
      "text/plain": [
       "VBox()"
      ]
     },
     "metadata": {},
     "output_type": "display_data"
    },
    {
     "data": {
      "application/vnd.jupyter.widget-view+json": {
       "model_id": "",
       "version_major": 2,
       "version_minor": 0
      },
      "text/plain": [
       "FloatProgress(value=0.0, bar_style='info', description='Progress:', layout=Layout(height='25px', width='50%'),…"
      ]
     },
     "metadata": {},
     "output_type": "display_data"
    },
    {
     "name": "stdout",
     "output_type": "stream",
     "text": [
      "True"
     ]
    }
   ],
   "source": [
    "games1.count() == games1.dropDuplicates().count()\n"
   ]
  },
  {
   "cell_type": "code",
   "execution_count": 56,
   "id": "775a2f46-44e3-48f4-9d29-133aab599da3",
   "metadata": {
    "execution": {
     "iopub.execute_input": "2022-11-23T19:09:21.170594Z",
     "iopub.status.busy": "2022-11-23T19:09:21.170262Z",
     "iopub.status.idle": "2022-11-23T19:09:47.285930Z",
     "shell.execute_reply": "2022-11-23T19:09:47.284860Z",
     "shell.execute_reply.started": "2022-11-23T19:09:21.170556Z"
    }
   },
   "outputs": [
    {
     "data": {
      "application/vnd.jupyter.widget-view+json": {
       "model_id": "ea68ef3a2d5d4af69d5c62259e3f78a6",
       "version_major": 2,
       "version_minor": 0
      },
      "text/plain": [
       "VBox()"
      ]
     },
     "metadata": {},
     "output_type": "display_data"
    },
    {
     "data": {
      "application/vnd.jupyter.widget-view+json": {
       "model_id": "",
       "version_major": 2,
       "version_minor": 0
      },
      "text/plain": [
       "FloatProgress(value=0.0, bar_style='info', description='Progress:', layout=Layout(height='25px', width='50%'),…"
      ]
     },
     "metadata": {},
     "output_type": "display_data"
    },
    {
     "name": "stdout",
     "output_type": "stream",
     "text": [
      "True"
     ]
    }
   ],
   "source": [
    "reviews1.count() == reviews1.dropDuplicates().count()\n"
   ]
  },
  {
   "cell_type": "code",
   "execution_count": 57,
   "id": "09707a4c-03e2-402e-874f-b79fdd3e197a",
   "metadata": {
    "execution": {
     "iopub.execute_input": "2022-11-23T19:09:47.288046Z",
     "iopub.status.busy": "2022-11-23T19:09:47.287492Z",
     "iopub.status.idle": "2022-11-23T19:09:53.575339Z",
     "shell.execute_reply": "2022-11-23T19:09:53.574218Z",
     "shell.execute_reply.started": "2022-11-23T19:09:47.288005Z"
    }
   },
   "outputs": [
    {
     "data": {
      "application/vnd.jupyter.widget-view+json": {
       "model_id": "c806c491bc884b8cbc7220b01a90c77e",
       "version_major": 2,
       "version_minor": 0
      },
      "text/plain": [
       "VBox()"
      ]
     },
     "metadata": {},
     "output_type": "display_data"
    },
    {
     "data": {
      "application/vnd.jupyter.widget-view+json": {
       "model_id": "",
       "version_major": 2,
       "version_minor": 0
      },
      "text/plain": [
       "FloatProgress(value=0.0, bar_style='info', description='Progress:', layout=Layout(height='25px', width='50%'),…"
      ]
     },
     "metadata": {},
     "output_type": "display_data"
    },
    {
     "name": "stdout",
     "output_type": "stream",
     "text": [
      "True"
     ]
    }
   ],
   "source": [
    "authors1.count() == authors1.dropDuplicates().count()\n"
   ]
  },
  {
   "cell_type": "markdown",
   "id": "5e3e85bf-0871-4fe7-9dfb-0db8272849a8",
   "metadata": {},
   "source": [
    "## Step 5: Project Write Up\n",
    "\n",
    "### choice of tools:\n",
    "#### I have chosen to use jupyter notebook on EMR as it offers some super quick and robust enviroment since the notebook and s3 bucket are both on the same\n",
    "#### availability zone (us-west-2)\n",
    "### how often the data should be updated and why:\n",
    "#### Well since this data is game related I think it would be adequate to update it once or twice a year, as to give enough time \n",
    "#### for new games to be published, then played and reviewed"
   ]
  },
  {
   "cell_type": "markdown",
   "id": "985cc318-7a04-4c41-9881-8d1c390f9fc2",
   "metadata": {},
   "source": [
    "### Possible cases\n",
    "### 1. Data was increases by 100x\n",
    "#### --> In this case, we can increase emr cluster nodes to be able to handle more load.\n",
    "\n",
    "### 2. The pipelines needs to run on a daily basis by 7 am every day\n",
    "#### --> For this case we can start using apache airflow and set the dag to be run '@daily'\n",
    "\n",
    "### 3. The database needs to be accessed by 100+ people.\n",
    "#### --> data on s3 is quite available so i guess there is no problem in that (please correct me if I am wrong)\n",
    "#### but if you mean we have a lot of data users querying the data at the same time, then we can maybe put our data on columnar redshift cluster\n",
    "#### and we can even create data marts tailored to these users if they fall under the same department or have similar needs"
   ]
  },
  {
   "cell_type": "code",
   "execution_count": null,
   "id": "e96da49f-72e3-4178-847c-66967b29e659",
   "metadata": {},
   "outputs": [],
   "source": []
  }
 ],
 "metadata": {
  "kernelspec": {
   "display_name": "PySpark",
   "language": "",
   "name": "pysparkkernel"
  },
  "language_info": {
   "codemirror_mode": {
    "name": "python",
    "version": 2
   },
   "mimetype": "text/x-python",
   "name": "pyspark",
   "pygments_lexer": "python2"
  }
 },
 "nbformat": 4,
 "nbformat_minor": 5
}
