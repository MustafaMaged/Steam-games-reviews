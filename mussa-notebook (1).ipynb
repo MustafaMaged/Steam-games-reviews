{
 "cells": [
  {
   "cell_type": "markdown",
   "id": "eb1b0557-d37d-4f06-8b27-2a135a4df8a0",
   "metadata": {
    "execution": {
     "iopub.execute_input": "2022-11-23T17:02:36.679466Z",
     "iopub.status.busy": "2022-11-23T17:02:36.679080Z",
     "iopub.status.idle": "2022-11-23T17:02:36.974589Z",
     "shell.execute_reply": "2022-11-23T17:02:36.973159Z",
     "shell.execute_reply.started": "2022-11-23T17:02:36.679422Z"
    }
   },
   "source": [
    "# Project Title\n",
    "### Data Engineering Capstone Project\n",
    "\n",
    "#### Project Summary\n",
    "Steam games Data warehouse using spark run on EMR cluster\n",
    "\n",
    "The project follows the following steps:\n",
    "* Step 1: Scope the Project and Gather Data\n",
    "* Step 2: Explore and Assess the Data\n",
    "* Step 3: Define the Data Model\n",
    "* Step 4: Run ETL to Model the Data\n",
    "* Step 5: Complete Project Write Up"
   ]
  },
  {
   "cell_type": "markdown",
   "id": "cabf9f63-54f3-48be-9680-4f62518cb39d",
   "metadata": {
    "tags": []
   },
   "source": [
    "### Step 1: Scope the Project and Gather Data\n",
    "\n",
    "#### Scope \n",
    "The scope of this project will be creating a steam games reviews data lake.<br>\n",
    "Data from 2 sources will be incorporated to be used in data science projects and in adhoc queries.<br>\n",
    "Questions like who are the most popular and successful developers? <br>\n",
    "what are the most controversial games (recommended vs not-recommended votes are almost split apart)?<br>\n",
    "preferences of the hardcore gamers (gamers with above average playtime)?\n",
    "\n",
    "\n",
    "#### Describe and Gather Data \n",
    "The first dataset is a csv file of game reviews on steam for around 300 different games containing the review body, date of publishing, and other metrics of the quality of reviews, data is obtained using Steam's provided API outlined in the Steamworks documentation: https://partner.steamgames.com/doc/store/getreviews\n",
    "found here:\n",
    "https://www.kaggle.com/datasets/najzeko/steam-reviews-2021\n",
    "\n",
    "The second dataset is a json file containing data of 75000 games including their name, publisher, date, categories etc., the dataset is found here: https://www.kaggle.com/datasets/deepann/80000-steam-games-dataset?resource=download\n",
    "  "
   ]
  },
  {
   "cell_type": "code",
   "execution_count": 18,
   "id": "0f1c5200-b590-4b49-93c1-af1aef444e5e",
   "metadata": {
    "execution": {
     "iopub.execute_input": "2022-11-27T17:10:55.178550Z",
     "iopub.status.busy": "2022-11-27T17:10:55.178208Z",
     "iopub.status.idle": "2022-11-27T17:11:00.712889Z",
     "shell.execute_reply": "2022-11-27T17:11:00.711496Z",
     "shell.execute_reply.started": "2022-11-27T17:10:55.178513Z"
    },
    "tags": []
   },
   "outputs": [
    {
     "data": {
      "application/vnd.jupyter.widget-view+json": {
       "model_id": "7bd19983d9954b2a89e8c3a008ee2948",
       "version_major": 2,
       "version_minor": 0
      },
      "text/plain": [
       "VBox()"
      ]
     },
     "metadata": {},
     "output_type": "display_data"
    },
    {
     "data": {
      "application/vnd.jupyter.widget-view+json": {
       "model_id": "",
       "version_major": 2,
       "version_minor": 0
      },
      "text/plain": [
       "FloatProgress(value=0.0, bar_style='info', description='Progress:', layout=Layout(height='25px', width='50%'),…"
      ]
     },
     "metadata": {},
     "output_type": "display_data"
    },
    {
     "name": "stdout",
     "output_type": "stream",
     "text": [
      "Collecting pandas==0.25.1\n",
      "  Using cached pandas-0.25.1-cp36-cp36m-manylinux1_x86_64.whl (10.5 MB)\n",
      "Collecting python-dateutil>=2.6.1\n",
      "  Using cached python_dateutil-2.8.2-py2.py3-none-any.whl (247 kB)\n",
      "Requirement already satisfied: numpy>=1.13.3 in /usr/local/lib64/python3.6/site-packages (from pandas==0.25.1) (1.14.5)\n",
      "Requirement already satisfied: pytz>=2017.2 in /usr/local/lib/python3.6/site-packages (from pandas==0.25.1) (2019.3)\n",
      "Requirement already satisfied: six>=1.5 in /usr/local/lib/python3.6/site-packages (from python-dateutil>=2.6.1->pandas==0.25.1) (1.12.0)\n",
      "Installing collected packages: python-dateutil, pandas\n",
      "Successfully installed pandas-0.25.1 python-dateutil-2.8.2"
     ]
    }
   ],
   "source": [
    "sc.install_pypi_package(\"pandas==0.25.1\")"
   ]
  },
  {
   "cell_type": "code",
   "execution_count": 42,
   "id": "0d86ed19-41c9-401d-aa30-711b7c9ddd28",
   "metadata": {
    "execution": {
     "iopub.execute_input": "2022-11-27T17:26:35.455467Z",
     "iopub.status.busy": "2022-11-27T17:26:35.455139Z",
     "iopub.status.idle": "2022-11-27T17:26:35.662561Z",
     "shell.execute_reply": "2022-11-27T17:26:35.661748Z",
     "shell.execute_reply.started": "2022-11-27T17:26:35.455440Z"
    },
    "tags": []
   },
   "outputs": [
    {
     "data": {
      "application/vnd.jupyter.widget-view+json": {
       "model_id": "151b1c5011664bc19afd6a487d5ff239",
       "version_major": 2,
       "version_minor": 0
      },
      "text/plain": [
       "VBox()"
      ]
     },
     "metadata": {},
     "output_type": "display_data"
    },
    {
     "data": {
      "application/vnd.jupyter.widget-view+json": {
       "model_id": "",
       "version_major": 2,
       "version_minor": 0
      },
      "text/plain": [
       "FloatProgress(value=0.0, bar_style='info', description='Progress:', layout=Layout(height='25px', width='50%'),…"
      ]
     },
     "metadata": {},
     "output_type": "display_data"
    }
   ],
   "source": [
    "# Do all imports and installs here\n",
    "import pandas as pd\n",
    "import os\n",
    "import numpy as np\n",
    "import io\n",
    "from pyspark.sql.types import StructType as R, StructField as Fld, DoubleType as Dbl, StringType as Str, IntegerType as Int, DateType as Date, BooleanType as Bool, FloatType as Flt\n",
    "from pyspark.sql.functions import col, isnan, when, count, udf\n",
    "\n",
    "\n",
    "# from pyspark.sql.functions import monotonically_increasing_id"
   ]
  },
  {
   "cell_type": "code",
   "execution_count": 11,
   "id": "4f710649-9958-4068-8509-f507f8fbfa39",
   "metadata": {
    "execution": {
     "iopub.execute_input": "2022-11-27T15:48:22.721994Z",
     "iopub.status.busy": "2022-11-27T15:48:22.721532Z",
     "iopub.status.idle": "2022-11-27T15:48:23.030314Z",
     "shell.execute_reply": "2022-11-27T15:48:23.028931Z",
     "shell.execute_reply.started": "2022-11-27T15:48:22.721944Z"
    },
    "tags": []
   },
   "outputs": [
    {
     "data": {
      "application/vnd.jupyter.widget-view+json": {
       "model_id": "255297327f3f430f8bd82e299fb18f47",
       "version_major": 2,
       "version_minor": 0
      },
      "text/plain": [
       "VBox()"
      ]
     },
     "metadata": {},
     "output_type": "display_data"
    },
    {
     "data": {
      "application/vnd.jupyter.widget-view+json": {
       "model_id": "",
       "version_major": 2,
       "version_minor": 0
      },
      "text/plain": [
       "FloatProgress(value=0.0, bar_style='info', description='Progress:', layout=Layout(height='25px', width='50%'),…"
      ]
     },
     "metadata": {},
     "output_type": "display_data"
    }
   ],
   "source": [
    "def check_dups_free_col(df,col_name):    \n",
    "    ''' \n",
    "    check if a column is duplicate free\n",
    "    '''\n",
    "    check = (df.count() == df.dropDuplicates(subset=[col_name]).count())\n",
    "    return check"
   ]
  },
  {
   "cell_type": "markdown",
   "id": "6dd4848a-e5ad-477b-9910-3584a611d052",
   "metadata": {
    "tags": []
   },
   "source": [
    "### Step 2: Explore and Assess the Data\n",
    "#### Explore and clean the Data \n"
   ]
  },
  {
   "cell_type": "markdown",
   "id": "ae276937-1576-4685-b540-ff13b7f6adc1",
   "metadata": {
    "jp-MarkdownHeadingCollapsed": true,
    "tags": []
   },
   "source": [
    "### first let's work with the games data"
   ]
  },
  {
   "cell_type": "code",
   "execution_count": 3,
   "id": "663e967b-dcbe-4e5f-a841-ff7b0fab8e97",
   "metadata": {
    "execution": {
     "iopub.execute_input": "2022-11-27T13:59:32.820457Z",
     "iopub.status.busy": "2022-11-27T13:59:32.820060Z",
     "iopub.status.idle": "2022-11-27T13:59:33.150148Z",
     "shell.execute_reply": "2022-11-27T13:59:33.148738Z",
     "shell.execute_reply.started": "2022-11-27T13:59:32.820411Z"
    }
   },
   "outputs": [
    {
     "data": {
      "application/vnd.jupyter.widget-view+json": {
       "model_id": "bd66fc3643934eeda6420078a5a2aaae",
       "version_major": 2,
       "version_minor": 0
      },
      "text/plain": [
       "VBox()"
      ]
     },
     "metadata": {},
     "output_type": "display_data"
    },
    {
     "data": {
      "application/vnd.jupyter.widget-view+json": {
       "model_id": "",
       "version_major": 2,
       "version_minor": 0
      },
      "text/plain": [
       "FloatProgress(value=0.0, bar_style='info', description='Progress:', layout=Layout(height='25px', width='50%'),…"
      ]
     },
     "metadata": {},
     "output_type": "display_data"
    }
   ],
   "source": [
    "def clean_games(df):\n",
    "    \"\"\"\n",
    "    drop duplicates of games name and dropping null values for game_name\n",
    "    \n",
    "    \"\"\"\n",
    "    games_no_dups = games.dropDuplicates(subset=['name']).dropna(subset=['name']) #.withColumn('game_id', monotonically_increasing_id())\n",
    "    return games_no_dups"
   ]
  },
  {
   "cell_type": "code",
   "execution_count": 4,
   "id": "71ee6137-b043-4e24-b9e8-4ce21a6d00d0",
   "metadata": {
    "execution": {
     "iopub.execute_input": "2022-11-27T13:59:38.490291Z",
     "iopub.status.busy": "2022-11-27T13:59:38.489704Z",
     "iopub.status.idle": "2022-11-27T13:59:56.417933Z",
     "shell.execute_reply": "2022-11-27T13:59:56.416355Z",
     "shell.execute_reply.started": "2022-11-27T13:59:38.490253Z"
    },
    "tags": []
   },
   "outputs": [
    {
     "data": {
      "application/vnd.jupyter.widget-view+json": {
       "model_id": "43d0b928d655423a82853fd0413f077e",
       "version_major": 2,
       "version_minor": 0
      },
      "text/plain": [
       "VBox()"
      ]
     },
     "metadata": {},
     "output_type": "display_data"
    },
    {
     "data": {
      "application/vnd.jupyter.widget-view+json": {
       "model_id": "",
       "version_major": 2,
       "version_minor": 0
      },
      "text/plain": [
       "FloatProgress(value=0.0, bar_style='info', description='Progress:', layout=Layout(height='25px', width='50%'),…"
      ]
     },
     "metadata": {},
     "output_type": "display_data"
    }
   ],
   "source": [
    "\n",
    "games = spark.read.json('s3://mussa-bucket/games_data.json')\n"
   ]
  },
  {
   "cell_type": "code",
   "execution_count": 9,
   "id": "51c703d8-9fda-4cfd-9728-02cc04b261bd",
   "metadata": {
    "execution": {
     "iopub.execute_input": "2022-11-23T14:37:20.875360Z",
     "iopub.status.busy": "2022-11-23T14:37:20.875052Z",
     "iopub.status.idle": "2022-11-23T14:37:24.648123Z",
     "shell.execute_reply": "2022-11-23T14:37:24.647084Z",
     "shell.execute_reply.started": "2022-11-23T14:37:20.875332Z"
    },
    "tags": []
   },
   "outputs": [
    {
     "data": {
      "application/vnd.jupyter.widget-view+json": {
       "model_id": "e725f487867c4f29ad07157c0dab3ff5",
       "version_major": 2,
       "version_minor": 0
      },
      "text/plain": [
       "VBox()"
      ]
     },
     "metadata": {},
     "output_type": "display_data"
    },
    {
     "data": {
      "application/vnd.jupyter.widget-view+json": {
       "model_id": "",
       "version_major": 2,
       "version_minor": 0
      },
      "text/plain": [
       "FloatProgress(value=0.0, bar_style='info', description='Progress:', layout=Layout(height='25px', width='50%'),…"
      ]
     },
     "metadata": {},
     "output_type": "display_data"
    },
    {
     "name": "stdout",
     "output_type": "stream",
     "text": [
      "                                          categories          date  \\\n",
      "0  [Online PvPLAN, PvPOnline Co-opLAN, Co-opCross...  Nov 16, 2018   \n",
      "1  [Steam Achievements Full, controller supportSt...  Aug 21, 2012   \n",
      "2  [MMOOnline PvPOnline, Co-opSteam Achievements ...   Aug 3, 2020   \n",
      "\n",
      "                          developer  \\\n",
      "0                        Innersloth   \n",
      "1  Valve, Hidden Path Entertainment   \n",
      "2                        Mediatonic   \n",
      "\n",
      "                                           full_desc  \\\n",
      "0  (About This Game Play with 4-10 player online ...   \n",
      "1  (About This Game Counter-Strike: Global Offens...   \n",
      "2  (About This Game Fall Guys: Ultimate Knockout ...   \n",
      "\n",
      "                                             img_url  \\\n",
      "0  https://steamcdn-a.akamaihd.net/steam/apps/945...   \n",
      "1  https://steamcdn-a.akamaihd.net/steam/apps/730...   \n",
      "2  https://steamcdn-a.akamaihd.net/steam/apps/109...   \n",
      "\n",
      "                               name  pegi  \\\n",
      "0                          Among Us  None   \n",
      "1  Counter-Strike: Global Offensive  None   \n",
      "2      Fall Guys: Ultimate Knockout  None   \n",
      "\n",
      "                                           popu_tags price         publisher  \\\n",
      "0  [Multiplayer, Online, Space, Social, Deduction...   499        Innersloth   \n",
      "1  [Shooter, Multiplayer, Competitive, Action, Te...  free             Valve   \n",
      "2  [Multiplayer, Funny, Battle, Royale, Online, F...   199  Devolver Digital   \n",
      "\n",
      "                                        requirements  \\\n",
      "0  ((None, None, (,  1 ,  Windows 7 SP1+,  SSE2 i...   \n",
      "1  ((( nVidia GeForce 8600/9600GT, ATI/AMD Radeon...   \n",
      "2                                       (None, None)   \n",
      "\n",
      "                                            url_info  \n",
      "0  (945360, app, https://store.steampowered.com/a...  \n",
      "1  (730, app, https://store.steampowered.com/app/...  \n",
      "2  (1097150, app, https://store.steampowered.com/..."
     ]
    }
   ],
   "source": [
    "pd.set_option('display.max_columns', None)\n",
    "games.limit(3).toPandas()"
   ]
  },
  {
   "cell_type": "code",
   "execution_count": 25,
   "id": "11ce8574-96d3-40e6-8162-0a19739f28fd",
   "metadata": {
    "execution": {
     "iopub.execute_input": "2022-11-27T14:39:41.413344Z",
     "iopub.status.busy": "2022-11-27T14:39:41.412890Z",
     "iopub.status.idle": "2022-11-27T14:39:41.880010Z",
     "shell.execute_reply": "2022-11-27T14:39:41.876853Z",
     "shell.execute_reply.started": "2022-11-27T14:39:41.413308Z"
    },
    "tags": []
   },
   "outputs": [
    {
     "data": {
      "application/vnd.jupyter.widget-view+json": {
       "model_id": "875c19c2ea3746dd99e4d7299175e108",
       "version_major": 2,
       "version_minor": 0
      },
      "text/plain": [
       "VBox()"
      ]
     },
     "metadata": {},
     "output_type": "display_data"
    },
    {
     "data": {
      "application/vnd.jupyter.widget-view+json": {
       "model_id": "",
       "version_major": 2,
       "version_minor": 0
      },
      "text/plain": [
       "FloatProgress(value=0.0, bar_style='info', description='Progress:', layout=Layout(height='25px', width='50%'),…"
      ]
     },
     "metadata": {},
     "output_type": "display_data"
    }
   ],
   "source": [
    "# now let's clean our data\n",
    "games_cleaned = clean_games(games)\n"
   ]
  },
  {
   "cell_type": "code",
   "execution_count": 8,
   "id": "7433a9e1-b036-4cba-8e5e-5e69b2e81d06",
   "metadata": {
    "execution": {
     "iopub.execute_input": "2022-11-27T14:02:15.674939Z",
     "iopub.status.busy": "2022-11-27T14:02:15.674608Z",
     "iopub.status.idle": "2022-11-27T14:02:21.622191Z",
     "shell.execute_reply": "2022-11-27T14:02:21.619758Z",
     "shell.execute_reply.started": "2022-11-27T14:02:15.674908Z"
    },
    "tags": []
   },
   "outputs": [
    {
     "data": {
      "application/vnd.jupyter.widget-view+json": {
       "model_id": "b8c75f49275341a0af071312ddf3388d",
       "version_major": 2,
       "version_minor": 0
      },
      "text/plain": [
       "VBox()"
      ]
     },
     "metadata": {},
     "output_type": "display_data"
    },
    {
     "data": {
      "application/vnd.jupyter.widget-view+json": {
       "model_id": "",
       "version_major": 2,
       "version_minor": 0
      },
      "text/plain": [
       "FloatProgress(value=0.0, bar_style='info', description='Progress:', layout=Layout(height='25px', width='50%'),…"
      ]
     },
     "metadata": {},
     "output_type": "display_data"
    },
    {
     "name": "stdout",
     "output_type": "stream",
     "text": [
      "                                          categories          date  \\\n",
      "0  [Single-playerDownloadable Content Steam, Achi...   1 Aug, 2019   \n",
      "1  [Single-playerDownloadable Content Steam, Achi...  Jun 25, 2019   \n",
      "\n",
      "      developer                                          full_desc  \\\n",
      "0           神族宝  (About This Content Purchasing this DLC will h...   \n",
      "1  Orange_Juice  (About This Content This Extra Character Pack ...   \n",
      "\n",
      "                                             img_url  \\\n",
      "0  https://steamcdn-a.akamaihd.net/steam/apps/111...   \n",
      "1  https://steamcdn-a.akamaihd.net/steam/apps/110...   \n",
      "\n",
      "                                                name  \\\n",
      "0                                02-【非必须品】逝3+逝外50元充值   \n",
      "1  100% Orange Juice - Sora & Sham (Cuties) Chara...   \n",
      "\n",
      "                                                pegi           popu_tags  \\\n",
      "0                                               None                 [+]   \n",
      "1  (m, [Violence, Users, Interact], https://steam...  [Strategy, Indie+]   \n",
      "\n",
      "  price publisher                                       requirements  \\\n",
      "0   268      None  ((None, None, ( 1024 x 768 pixels or higher de...   \n",
      "1            None  ((None, None, ( Direct3D compatible video card...   \n",
      "\n",
      "                                            url_info  \n",
      "0  (1110631, app, https://store.steampowered.com/...  \n",
      "1  (1101350, app, https://store.steampowered.com/..."
     ]
    }
   ],
   "source": [
    "pd.set_option('display.max_columns', None)\n",
    "\n",
    "games_cleaned.limit(2).toPandas()"
   ]
  },
  {
   "cell_type": "markdown",
   "id": "9a32a968-1bc6-4609-a2cf-ff64a399042d",
   "metadata": {
    "jp-MarkdownHeadingCollapsed": true,
    "tags": []
   },
   "source": [
    "### Now it's time to work with the reviews data"
   ]
  },
  {
   "cell_type": "code",
   "execution_count": 9,
   "id": "fc706069-6d6c-4677-8841-4508a156b1f5",
   "metadata": {
    "execution": {
     "iopub.execute_input": "2022-11-27T14:06:35.305177Z",
     "iopub.status.busy": "2022-11-27T14:06:35.304828Z",
     "iopub.status.idle": "2022-11-27T14:06:35.636009Z",
     "shell.execute_reply": "2022-11-27T14:06:35.632408Z",
     "shell.execute_reply.started": "2022-11-27T14:06:35.305145Z"
    },
    "jupyter": {
     "source_hidden": true
    },
    "tags": []
   },
   "outputs": [
    {
     "data": {
      "application/vnd.jupyter.widget-view+json": {
       "model_id": "8404e402ebd04202ad1083ea22640eee",
       "version_major": 2,
       "version_minor": 0
      },
      "text/plain": [
       "VBox()"
      ]
     },
     "metadata": {},
     "output_type": "display_data"
    },
    {
     "data": {
      "application/vnd.jupyter.widget-view+json": {
       "model_id": "",
       "version_major": 2,
       "version_minor": 0
      },
      "text/plain": [
       "FloatProgress(value=0.0, bar_style='info', description='Progress:', layout=Layout(height='25px', width='50%'),…"
      ]
     },
     "metadata": {},
     "output_type": "display_data"
    }
   ],
   "source": [
    "def load_reviews(path):\n",
    "    '''\n",
    "    define a schema for the df and load it\n",
    "    '''\n",
    "    # here we define a schema for the csv\n",
    "    schema_reviews = R([\n",
    "    Fld('1st_col',Int()), \n",
    "    Fld('game_id',Str()),\n",
    "    Fld('game_name',Str()), \n",
    "    Fld('review_id',Str()),\n",
    "    Fld('language',Str()),   \n",
    "    Fld('review',Str()),    \n",
    "    Fld('timestamp_created',Dbl()),    \n",
    "    Fld('timestamp_updated',Dbl()),   \n",
    "    Fld('recommended',Bool()),        \n",
    "    Fld('votes_helpful',Int()),        \n",
    "    Fld('votes_funny',Int()),        \n",
    "    Fld('weighted_vote_score',Flt()),        \n",
    "    Fld('comment_count',Int()),\n",
    "    Fld('steam_purchase',Bool()),            \n",
    "    Fld('received_for_free',Bool()),  \n",
    "    Fld('written_during_early_access',Bool()),             \n",
    "    Fld('author_steamid',Str()),            \n",
    "    Fld('author_num_games_owned',Int()),\n",
    "    Fld('author_num_reviews',Int()),                \n",
    "    Fld('author_playtime_forever',Flt()),                \n",
    "    Fld('author_playtime_last_two_weeks',Flt()),\n",
    "    Fld('author_playtime_at_review',Flt()),                    \n",
    "    Fld('author_last_played',Dbl())  \n",
    "    ])\n",
    "    reviews = spark.read.csv(path,header=True, schema=schema_reviews)\n",
    "    return reviews"
   ]
  },
  {
   "cell_type": "code",
   "execution_count": 10,
   "id": "d7b1ada8-2307-44d5-a680-ee4caf9501a4",
   "metadata": {
    "execution": {
     "iopub.execute_input": "2022-11-27T14:06:45.516772Z",
     "iopub.status.busy": "2022-11-27T14:06:45.516220Z",
     "iopub.status.idle": "2022-11-27T14:06:46.046936Z",
     "shell.execute_reply": "2022-11-27T14:06:46.045838Z",
     "shell.execute_reply.started": "2022-11-27T14:06:45.516654Z"
    },
    "jupyter": {
     "source_hidden": true
    },
    "tags": []
   },
   "outputs": [
    {
     "data": {
      "application/vnd.jupyter.widget-view+json": {
       "model_id": "3ac337ebc0e242429c1931d6ae4d8fa6",
       "version_major": 2,
       "version_minor": 0
      },
      "text/plain": [
       "VBox()"
      ]
     },
     "metadata": {},
     "output_type": "display_data"
    },
    {
     "data": {
      "application/vnd.jupyter.widget-view+json": {
       "model_id": "",
       "version_major": 2,
       "version_minor": 0
      },
      "text/plain": [
       "FloatProgress(value=0.0, bar_style='info', description='Progress:', layout=Layout(height='25px', width='50%'),…"
      ]
     },
     "metadata": {},
     "output_type": "display_data"
    }
   ],
   "source": [
    "reviews = load_reviews('s3://mussa-bucket/steam_reviews.csv')\n"
   ]
  },
  {
   "cell_type": "code",
   "execution_count": 11,
   "id": "ed2f3323-8b30-4ed1-b65d-df72f2590b1e",
   "metadata": {
    "collapsed": true,
    "execution": {
     "iopub.execute_input": "2022-11-27T14:07:22.000956Z",
     "iopub.status.busy": "2022-11-27T14:07:22.000460Z",
     "iopub.status.idle": "2022-11-27T14:07:29.890266Z",
     "shell.execute_reply": "2022-11-27T14:07:29.888677Z",
     "shell.execute_reply.started": "2022-11-27T14:07:22.000912Z"
    },
    "jupyter": {
     "outputs_hidden": true,
     "source_hidden": true
    },
    "tags": []
   },
   "outputs": [
    {
     "data": {
      "application/vnd.jupyter.widget-view+json": {
       "model_id": "74a2828623c342f4af3231fe88ddd54a",
       "version_major": 2,
       "version_minor": 0
      },
      "text/plain": [
       "VBox()"
      ]
     },
     "metadata": {},
     "output_type": "display_data"
    },
    {
     "data": {
      "application/vnd.jupyter.widget-view+json": {
       "model_id": "",
       "version_major": 2,
       "version_minor": 0
      },
      "text/plain": [
       "FloatProgress(value=0.0, bar_style='info', description='Progress:', layout=Layout(height='25px', width='50%'),…"
      ]
     },
     "metadata": {},
     "output_type": "display_data"
    },
    {
     "name": "stdout",
     "output_type": "stream",
     "text": [
      "   1st_col game_id                 game_name review_id  language  \\\n",
      "0        0  292030  The Witcher 3: Wild Hunt  85185598  schinese   \n",
      "1        1  292030  The Witcher 3: Wild Hunt  85185250  schinese   \n",
      "\n",
      "                    review  timestamp_created  timestamp_updated  recommended  \\\n",
      "0  不玩此生遗憾，RPG游戏里的天花板，太吸引人了       1.611382e+09       1.611382e+09         True   \n",
      "1       拔DIAO无情打桩机--杰洛特!!!       1.611381e+09       1.611381e+09         True   \n",
      "\n",
      "   votes_helpful  votes_funny  weighted_vote_score  comment_count  \\\n",
      "0              0            0                  0.0              0   \n",
      "1              0            0                  0.0              0   \n",
      "\n",
      "   steam_purchase  received_for_free  written_during_early_access  \\\n",
      "0            True              False                        False   \n",
      "1            True              False                        False   \n",
      "\n",
      "      author_steamid  author_num_games_owned  author_num_reviews  \\\n",
      "0  76561199095369542                       6                   2   \n",
      "1  76561198949504115                      30                  10   \n",
      "\n",
      "   author_playtime_forever  author_playtime_last_two_weeks  \\\n",
      "0                   1909.0                          1448.0   \n",
      "1                   2764.0                          2743.0   \n",
      "\n",
      "   author_playtime_at_review  author_last_played  \n",
      "0                     1909.0        1.611343e+09  \n",
      "1                     2674.0        1.611386e+09"
     ]
    }
   ],
   "source": [
    "reviews.limit(2).toPandas()"
   ]
  },
  {
   "cell_type": "code",
   "execution_count": 20,
   "id": "4062619c-9e3d-4f3a-86c2-b3a43e7b43a7",
   "metadata": {
    "collapsed": true,
    "execution": {
     "iopub.execute_input": "2022-11-23T14:40:21.186556Z",
     "iopub.status.busy": "2022-11-23T14:40:21.186161Z",
     "iopub.status.idle": "2022-11-23T14:40:42.979849Z",
     "shell.execute_reply": "2022-11-23T14:40:42.977789Z",
     "shell.execute_reply.started": "2022-11-23T14:40:21.186525Z"
    },
    "jupyter": {
     "outputs_hidden": true,
     "source_hidden": true
    },
    "tags": []
   },
   "outputs": [
    {
     "data": {
      "application/vnd.jupyter.widget-view+json": {
       "model_id": "8b5d2a11b4d343e9ae4895cbb8312004",
       "version_major": 2,
       "version_minor": 0
      },
      "text/plain": [
       "VBox()"
      ]
     },
     "metadata": {},
     "output_type": "display_data"
    },
    {
     "data": {
      "application/vnd.jupyter.widget-view+json": {
       "model_id": "",
       "version_major": 2,
       "version_minor": 0
      },
      "text/plain": [
       "FloatProgress(value=0.0, bar_style='info', description='Progress:', layout=Layout(height='25px', width='50%'),…"
      ]
     },
     "metadata": {},
     "output_type": "display_data"
    },
    {
     "name": "stdout",
     "output_type": "stream",
     "text": [
      "40848659"
     ]
    }
   ],
   "source": [
    "# let's see how big is the data\n",
    "reviews.count()"
   ]
  },
  {
   "cell_type": "markdown",
   "id": "3f29a6cf-8787-410a-9025-deecab55b60c",
   "metadata": {
    "jupyter": {
     "source_hidden": true
    },
    "tags": []
   },
   "source": [
    "#### Well not too much data I suppose!\n",
    "#### we will start working on the data and in the end we are going to be left with less records"
   ]
  },
  {
   "cell_type": "code",
   "execution_count": null,
   "id": "be73e236-7916-4bab-b65d-c5e3e71aa366",
   "metadata": {
    "collapsed": true,
    "execution": {
     "iopub.execute_input": "2022-11-22T18:01:26.084989Z",
     "iopub.status.busy": "2022-11-22T18:01:26.084608Z",
     "iopub.status.idle": "2022-11-22T18:01:45.932441Z",
     "shell.execute_reply": "2022-11-22T18:01:45.928352Z",
     "shell.execute_reply.started": "2022-11-22T18:01:26.084959Z"
    },
    "jupyter": {
     "outputs_hidden": true,
     "source_hidden": true
    },
    "tags": []
   },
   "outputs": [
    {
     "data": {
      "application/vnd.jupyter.widget-view+json": {
       "model_id": "",
       "version_major": 2,
       "version_minor": 0
      },
      "text/plain": [
       "VBox()"
      ]
     },
     "metadata": {},
     "output_type": "display_data"
    },
    {
     "data": {
      "application/vnd.jupyter.widget-view+json": {
       "model_id": "",
       "version_major": 2,
       "version_minor": 0
      },
      "text/plain": [
       "FloatProgress(value=0.0, bar_style='info', description='Progress:', layout=Layout(height='25px', width='50%'),…"
      ]
     },
     "metadata": {},
     "output_type": "display_data"
    },
    {
     "name": "stdout",
     "output_type": "stream",
     "text": [
      "+--------+--------+\n",
      "|language|   count|\n",
      "+--------+--------+\n",
      "|    null|14498420|\n",
      "| english| 9635437|\n",
      "|schinese| 3764967|\n",
      "| russian| 2348900|\n",
      "|       0| 1389226|\n",
      "+--------+--------+\n",
      "only showing top 5 rows"
     ]
    }
   ],
   "source": [
    "# let's discover the languages available in our data\n",
    "reviews.groupby('language').count().orderBy('count', ascending=False).show(5)"
   ]
  },
  {
   "cell_type": "markdown",
   "id": "44a07863-2ef5-4b9e-92ba-2fe0ae7962c4",
   "metadata": {
    "jupyter": {
     "source_hidden": true
    },
    "tags": []
   },
   "source": [
    "#### We can see that there is a huge amount of nulls, Moreover, reviews in languages other than English\n",
    "#### won't be understandable to me given my humble knowledge, so we will drop the nulls and keep English reviews,\n",
    "#### so if you want a specific language feel free to add it to the next filter that we are going to apply"
   ]
  },
  {
   "cell_type": "code",
   "execution_count": 21,
   "id": "f6dc2fe6-60c8-4de9-b5d1-2caba35321d6",
   "metadata": {
    "execution": {
     "iopub.execute_input": "2022-11-27T14:25:49.329977Z",
     "iopub.status.busy": "2022-11-27T14:25:49.329320Z",
     "iopub.status.idle": "2022-11-27T14:25:49.648883Z",
     "shell.execute_reply": "2022-11-27T14:25:49.647226Z",
     "shell.execute_reply.started": "2022-11-27T14:25:49.329937Z"
    },
    "tags": []
   },
   "outputs": [
    {
     "data": {
      "application/vnd.jupyter.widget-view+json": {
       "model_id": "314088894c1a43139042b0022b2f85cf",
       "version_major": 2,
       "version_minor": 0
      },
      "text/plain": [
       "VBox()"
      ]
     },
     "metadata": {},
     "output_type": "display_data"
    },
    {
     "data": {
      "application/vnd.jupyter.widget-view+json": {
       "model_id": "",
       "version_major": 2,
       "version_minor": 0
      },
      "text/plain": [
       "FloatProgress(value=0.0, bar_style='info', description='Progress:', layout=Layout(height='25px', width='50%'),…"
      ]
     },
     "metadata": {},
     "output_type": "display_data"
    }
   ],
   "source": [
    "def clean_reviews(df):\n",
    "    '''\n",
    "    filter only Engilsh reviews, drop nulls, and drop duplicates in review_id\n",
    "    '''\n",
    "    # taking only English language and dropping null values\n",
    "    reviews_english = reviews.filter(\"language ='english'\").dropna()\n",
    "    # dropping the duplicates in review_id\n",
    "    r_eng_no_dups = reviews_english.dropDuplicates(subset=[\"review_id\"])  \n",
    "    return r_eng_no_dups"
   ]
  },
  {
   "cell_type": "code",
   "execution_count": 16,
   "id": "ccff25ef-7435-4490-97bc-86d2ca62b9eb",
   "metadata": {
    "execution": {
     "iopub.execute_input": "2022-11-27T14:21:37.773592Z",
     "iopub.status.busy": "2022-11-27T14:21:37.773274Z",
     "iopub.status.idle": "2022-11-27T14:22:26.230760Z",
     "shell.execute_reply": "2022-11-27T14:22:26.229729Z",
     "shell.execute_reply.started": "2022-11-27T14:21:37.773565Z"
    },
    "tags": []
   },
   "outputs": [
    {
     "data": {
      "application/vnd.jupyter.widget-view+json": {
       "model_id": "f574553ffe1d4be58557f5cc367a1c03",
       "version_major": 2,
       "version_minor": 0
      },
      "text/plain": [
       "VBox()"
      ]
     },
     "metadata": {},
     "output_type": "display_data"
    },
    {
     "data": {
      "application/vnd.jupyter.widget-view+json": {
       "model_id": "",
       "version_major": 2,
       "version_minor": 0
      },
      "text/plain": [
       "FloatProgress(value=0.0, bar_style='info', description='Progress:', layout=Layout(height='25px', width='50%'),…"
      ]
     },
     "metadata": {},
     "output_type": "display_data"
    },
    {
     "name": "stdout",
     "output_type": "stream",
     "text": [
      "False"
     ]
    }
   ],
   "source": [
    "# since review_id is going to be a primary key to our fact table, we want to check if it has duplicates\n",
    "check_dups_free_col(reviews,'review_id')"
   ]
  },
  {
   "cell_type": "code",
   "execution_count": 22,
   "id": "f22ae03b-a98f-4215-ad7a-4e603187adc2",
   "metadata": {
    "execution": {
     "iopub.execute_input": "2022-11-27T14:25:58.048103Z",
     "iopub.status.busy": "2022-11-27T14:25:58.047731Z",
     "iopub.status.idle": "2022-11-27T14:25:58.321866Z",
     "shell.execute_reply": "2022-11-27T14:25:58.321182Z",
     "shell.execute_reply.started": "2022-11-27T14:25:58.048069Z"
    },
    "tags": []
   },
   "outputs": [
    {
     "data": {
      "application/vnd.jupyter.widget-view+json": {
       "model_id": "3f9346983df64e5ca75122b6884d9954",
       "version_major": 2,
       "version_minor": 0
      },
      "text/plain": [
       "VBox()"
      ]
     },
     "metadata": {},
     "output_type": "display_data"
    },
    {
     "data": {
      "application/vnd.jupyter.widget-view+json": {
       "model_id": "",
       "version_major": 2,
       "version_minor": 0
      },
      "text/plain": [
       "FloatProgress(value=0.0, bar_style='info', description='Progress:', layout=Layout(height='25px', width='50%'),…"
      ]
     },
     "metadata": {},
     "output_type": "display_data"
    }
   ],
   "source": [
    "reviews_cleaned = clean_reviews(reviews)\n"
   ]
  },
  {
   "cell_type": "code",
   "execution_count": 23,
   "id": "9116ebda-44d4-4f2c-8aa5-1f48d2f4ba44",
   "metadata": {
    "execution": {
     "iopub.execute_input": "2022-11-27T14:26:00.262412Z",
     "iopub.status.busy": "2022-11-27T14:26:00.261919Z",
     "iopub.status.idle": "2022-11-27T14:27:25.724501Z",
     "shell.execute_reply": "2022-11-27T14:27:25.641551Z",
     "shell.execute_reply.started": "2022-11-27T14:26:00.262312Z"
    },
    "tags": []
   },
   "outputs": [
    {
     "data": {
      "application/vnd.jupyter.widget-view+json": {
       "model_id": "54d619ecd8654fba9e36a70bda6e9a60",
       "version_major": 2,
       "version_minor": 0
      },
      "text/plain": [
       "VBox()"
      ]
     },
     "metadata": {},
     "output_type": "display_data"
    },
    {
     "data": {
      "application/vnd.jupyter.widget-view+json": {
       "model_id": "",
       "version_major": 2,
       "version_minor": 0
      },
      "text/plain": [
       "FloatProgress(value=0.0, bar_style='info', description='Progress:', layout=Layout(height='25px', width='50%'),…"
      ]
     },
     "metadata": {},
     "output_type": "display_data"
    },
    {
     "name": "stdout",
     "output_type": "stream",
     "text": [
      "True"
     ]
    }
   ],
   "source": [
    "# now check for duplicates again\n",
    "check_dups_free_col(reviews_cleaned,'review_id')"
   ]
  },
  {
   "cell_type": "markdown",
   "id": "3053429d-ad78-4551-8007-7c411ea6e1d3",
   "metadata": {
    "jp-MarkdownHeadingCollapsed": true,
    "jupyter": {
     "source_hidden": true
    },
    "tags": []
   },
   "source": [
    "### Step 3: Define the Data Model\n",
    "####  Conceptual Data Model\n",
    "the data model here is quite simple, consisting of one fact table which is reviews with review_id as primary key,\n",
    "and 2 dimension tables which are the games table with game_name as primary key, and the review authors table\n",
    "with author_steamid  as primary key\n",
    "\n",
    "#### fact table -> reviews:\n",
    "\n",
    "| column | description |\n",
    "| :-- | :-- |\n",
    "| review_id (string) |primary key for review ids\n",
    "| game_id (string) | game id |\n",
    "| game_name (string) | game name |\n",
    "| review (string) | review body |\n",
    "| timestamp_created (double) | time of review publishing |\n",
    "| recommended (bool) | whether the reviewer recommends the game or not |\n",
    "| votes_helpful (integer) | number of votes praising the review |\n",
    "| weighted_vote_score (float) | a score based on number of helpful votes |\n",
    "| comment_count (integer) | number of comments in a review |\n",
    "| steam_purchase (bool) | wether or not the game was purchased on steam |\n",
    "| received_for_free (bool) | wether or not the game was received for free |\n",
    "| written_during_early_access (bool) | Whether or not the review was written during early access |\n",
    "| author_steamid (string) | id of the reviewer |\n",
    "| author_playtime_at_review (float) | reviewer playtime of reviewed game at time of review |\n",
    "\n"
   ]
  },
  {
   "cell_type": "markdown",
   "id": "fcdd1d04-207d-4cf2-a178-e2f36052eb4d",
   "metadata": {},
   "source": [
    "#### dimension tables:\n",
    "\n",
    "##### 1.games:\n",
    "| column | description |\n",
    "| ------ | ------ |\n",
    "| name(string) | title of the game |\n",
    "| categories(array of string) | categories of the game |\n",
    "| date(string) | game's date of release |\n",
    "| developer(string) | game's developer |\n",
    "| full_desc(struct of string) | full description |\n",
    "| pegi(struct) | adult content rating  |\n",
    "| popu_tags(array of string) | popular tags  |\n",
    "| price(string) | initial price of sales |\n",
    "| publisher(string) | publisher of the game |\n",
    "\n",
    "##### 2.authors:\n",
    "| column | description |\n",
    "| ------ | :------: |\n",
    "| author_steamid(string) | reviewer id |\n",
    "| author_num_games_owned(integer) | number of games owned by the reviewer |\n",
    "| author_num_reviews(integer) | number of reviews published by the reviewer |\n",
    "| author_playtime_forever(float) | total playtime of all games owned by the reviewer |\n"
   ]
  },
  {
   "cell_type": "markdown",
   "id": "58e7b93f-f25b-4e57-833d-7753ceb460c9",
   "metadata": {
    "jupyter": {
     "source_hidden": true
    },
    "tags": []
   },
   "source": [
    "### Step 4: Run Pipelines to Model the Data \n",
    "#### Create the data model"
   ]
  },
  {
   "cell_type": "code",
   "execution_count": 26,
   "id": "1069897a-6a7a-4a9b-a0f1-1d1cd51e54fc",
   "metadata": {
    "execution": {
     "iopub.execute_input": "2022-11-27T14:47:08.594636Z",
     "iopub.status.busy": "2022-11-27T14:47:08.594008Z",
     "iopub.status.idle": "2022-11-27T14:47:08.922298Z",
     "shell.execute_reply": "2022-11-27T14:47:08.920937Z",
     "shell.execute_reply.started": "2022-11-27T14:47:08.594587Z"
    },
    "jupyter": {
     "source_hidden": true
    },
    "tags": []
   },
   "outputs": [
    {
     "data": {
      "application/vnd.jupyter.widget-view+json": {
       "model_id": "fa0d6183701e4492ac5506676f760139",
       "version_major": 2,
       "version_minor": 0
      },
      "text/plain": [
       "VBox()"
      ]
     },
     "metadata": {},
     "output_type": "display_data"
    },
    {
     "data": {
      "application/vnd.jupyter.widget-view+json": {
       "model_id": "",
       "version_major": 2,
       "version_minor": 0
      },
      "text/plain": [
       "FloatProgress(value=0.0, bar_style='info', description='Progress:', layout=Layout(height='25px', width='50%'),…"
      ]
     },
     "metadata": {},
     "output_type": "display_data"
    }
   ],
   "source": [
    "def model_games(df):\n",
    "    '''\n",
    "    implement model for games with columns of interest\n",
    "    '''\n",
    "    games_final = df.select('name', 'categories', 'date', 'developer', 'full_desc','pegi', 'popu_tags', 'price','publisher')    \n",
    "    return games_final\n",
    "\n",
    "def model_reviews(df):\n",
    "    '''\n",
    "    implement model for reviews with columns of interest\n",
    "    '''\n",
    "    reviews_final = df.select('review_id', 'game_id', 'game_name', 'review', 'timestamp_created',\\\n",
    "                           'recommended', 'votes_helpful', 'weighted_vote_score', 'comment_count',\\\n",
    "                           'steam_purchase', 'received_for_free', 'written_during_early_access',\\\n",
    "                           'author_steamid','author_playtime_at_review')    \n",
    "    return reviews_final\n",
    "\n",
    "def model_authors(df):\n",
    "    '''\n",
    "    implement model for authors with columns of interest and drop duplicates in author_steam_id\n",
    "    '''\n",
    "    authors_final = df.dropDuplicates(subset=['author_steamid'])\\\n",
    "                  .select('author_steamid', 'author_num_games_owned', 'author_num_reviews', 'author_playtime_forever')    \n",
    "    return authors_final"
   ]
  },
  {
   "cell_type": "code",
   "execution_count": 27,
   "id": "d77a9c3d-4e26-4f82-b849-88e8ae7f5396",
   "metadata": {
    "collapsed": true,
    "execution": {
     "iopub.execute_input": "2022-11-27T14:47:50.786931Z",
     "iopub.status.busy": "2022-11-27T14:47:50.786579Z",
     "iopub.status.idle": "2022-11-27T14:47:51.133169Z",
     "shell.execute_reply": "2022-11-27T14:47:51.131831Z",
     "shell.execute_reply.started": "2022-11-27T14:47:50.786890Z"
    },
    "jupyter": {
     "outputs_hidden": true,
     "source_hidden": true
    },
    "tags": []
   },
   "outputs": [
    {
     "data": {
      "application/vnd.jupyter.widget-view+json": {
       "model_id": "198519f536544e3ba1a280df8b154e8c",
       "version_major": 2,
       "version_minor": 0
      },
      "text/plain": [
       "VBox()"
      ]
     },
     "metadata": {},
     "output_type": "display_data"
    },
    {
     "data": {
      "application/vnd.jupyter.widget-view+json": {
       "model_id": "",
       "version_major": 2,
       "version_minor": 0
      },
      "text/plain": [
       "FloatProgress(value=0.0, bar_style='info', description='Progress:', layout=Layout(height='25px', width='50%'),…"
      ]
     },
     "metadata": {},
     "output_type": "display_data"
    }
   ],
   "source": [
    "games_final = model_games(games_cleaned)"
   ]
  },
  {
   "cell_type": "code",
   "execution_count": 28,
   "id": "6eae87c4-88ea-435a-ab33-a4780bd755f7",
   "metadata": {
    "collapsed": true,
    "execution": {
     "iopub.execute_input": "2022-11-27T14:48:13.093209Z",
     "iopub.status.busy": "2022-11-27T14:48:13.092837Z",
     "iopub.status.idle": "2022-11-27T14:48:13.352534Z",
     "shell.execute_reply": "2022-11-27T14:48:13.350976Z",
     "shell.execute_reply.started": "2022-11-27T14:48:13.093175Z"
    },
    "jupyter": {
     "outputs_hidden": true,
     "source_hidden": true
    },
    "tags": []
   },
   "outputs": [
    {
     "data": {
      "application/vnd.jupyter.widget-view+json": {
       "model_id": "e6d4e8fd51b94deb9ed17eae4da05080",
       "version_major": 2,
       "version_minor": 0
      },
      "text/plain": [
       "VBox()"
      ]
     },
     "metadata": {},
     "output_type": "display_data"
    },
    {
     "data": {
      "application/vnd.jupyter.widget-view+json": {
       "model_id": "",
       "version_major": 2,
       "version_minor": 0
      },
      "text/plain": [
       "FloatProgress(value=0.0, bar_style='info', description='Progress:', layout=Layout(height='25px', width='50%'),…"
      ]
     },
     "metadata": {},
     "output_type": "display_data"
    }
   ],
   "source": [
    "reviews_final = model_reviews(reviews_cleaned)"
   ]
  },
  {
   "cell_type": "code",
   "execution_count": 29,
   "id": "5db0969d-6538-499a-91bc-9106ff3b304d",
   "metadata": {
    "execution": {
     "iopub.execute_input": "2022-11-27T14:48:45.902812Z",
     "iopub.status.busy": "2022-11-27T14:48:45.902463Z",
     "iopub.status.idle": "2022-11-27T14:48:46.240723Z",
     "shell.execute_reply": "2022-11-27T14:48:46.238536Z",
     "shell.execute_reply.started": "2022-11-27T14:48:45.902778Z"
    },
    "jupyter": {
     "source_hidden": true
    },
    "tags": []
   },
   "outputs": [
    {
     "data": {
      "application/vnd.jupyter.widget-view+json": {
       "model_id": "19703ceec3364d16a5af3553f1eac0bf",
       "version_major": 2,
       "version_minor": 0
      },
      "text/plain": [
       "VBox()"
      ]
     },
     "metadata": {},
     "output_type": "display_data"
    },
    {
     "data": {
      "application/vnd.jupyter.widget-view+json": {
       "model_id": "",
       "version_major": 2,
       "version_minor": 0
      },
      "text/plain": [
       "FloatProgress(value=0.0, bar_style='info', description='Progress:', layout=Layout(height='25px', width='50%'),…"
      ]
     },
     "metadata": {},
     "output_type": "display_data"
    }
   ],
   "source": [
    "authors = model_authors(reviews_cleaned)"
   ]
  },
  {
   "cell_type": "markdown",
   "id": "3970ecd1-3a65-4ed6-a643-abafbdbe25a7",
   "metadata": {
    "jp-MarkdownHeadingCollapsed": true,
    "tags": []
   },
   "source": [
    "### now we write all tables back to s3 as parquet files"
   ]
  },
  {
   "cell_type": "code",
   "execution_count": 30,
   "id": "5f9d6903-961c-4987-ab89-6200ed69f1c8",
   "metadata": {
    "collapsed": true,
    "execution": {
     "iopub.execute_input": "2022-11-27T14:52:43.851412Z",
     "iopub.status.busy": "2022-11-27T14:52:43.851029Z",
     "iopub.status.idle": "2022-11-27T14:52:44.180705Z",
     "shell.execute_reply": "2022-11-27T14:52:44.176623Z",
     "shell.execute_reply.started": "2022-11-27T14:52:43.851380Z"
    },
    "jupyter": {
     "outputs_hidden": true,
     "source_hidden": true
    },
    "tags": []
   },
   "outputs": [
    {
     "data": {
      "application/vnd.jupyter.widget-view+json": {
       "model_id": "1ce7f89779a748bebb689d44c65c38d7",
       "version_major": 2,
       "version_minor": 0
      },
      "text/plain": [
       "VBox()"
      ]
     },
     "metadata": {},
     "output_type": "display_data"
    },
    {
     "data": {
      "application/vnd.jupyter.widget-view+json": {
       "model_id": "",
       "version_major": 2,
       "version_minor": 0
      },
      "text/plain": [
       "FloatProgress(value=0.0, bar_style='info', description='Progress:', layout=Layout(height='25px', width='50%'),…"
      ]
     },
     "metadata": {},
     "output_type": "display_data"
    }
   ],
   "source": [
    "def write_table_parquet(df,path):\n",
    "    '''\n",
    "    write table to parquet files to given path\n",
    "    '''\n",
    "    df.write.mode('overwrite').parquet(path)"
   ]
  },
  {
   "cell_type": "code",
   "execution_count": 32,
   "id": "9e8982e9-569b-4d03-b40f-b39e33768508",
   "metadata": {
    "collapsed": true,
    "execution": {
     "iopub.execute_input": "2022-11-27T14:52:55.995504Z",
     "iopub.status.busy": "2022-11-27T14:52:55.995104Z",
     "iopub.status.idle": "2022-11-27T14:53:24.666349Z",
     "shell.execute_reply": "2022-11-27T14:53:24.662304Z",
     "shell.execute_reply.started": "2022-11-27T14:52:55.995472Z"
    },
    "jupyter": {
     "outputs_hidden": true,
     "source_hidden": true
    },
    "tags": []
   },
   "outputs": [
    {
     "data": {
      "application/vnd.jupyter.widget-view+json": {
       "model_id": "058f626ac8104e25a41ccc7d98b661ce",
       "version_major": 2,
       "version_minor": 0
      },
      "text/plain": [
       "VBox()"
      ]
     },
     "metadata": {},
     "output_type": "display_data"
    },
    {
     "data": {
      "application/vnd.jupyter.widget-view+json": {
       "model_id": "",
       "version_major": 2,
       "version_minor": 0
      },
      "text/plain": [
       "FloatProgress(value=0.0, bar_style='info', description='Progress:', layout=Layout(height='25px', width='50%'),…"
      ]
     },
     "metadata": {},
     "output_type": "display_data"
    }
   ],
   "source": [
    "write_table_parquet(games_final, 's3://mussa-bucket/data_parquet/games.parquet')"
   ]
  },
  {
   "cell_type": "code",
   "execution_count": 33,
   "id": "0263854a-40b9-4472-b6b8-fef4c8136327",
   "metadata": {
    "collapsed": true,
    "execution": {
     "iopub.execute_input": "2022-11-27T14:53:30.282527Z",
     "iopub.status.busy": "2022-11-27T14:53:30.282186Z",
     "iopub.status.idle": "2022-11-27T14:55:11.460310Z",
     "shell.execute_reply": "2022-11-27T14:55:11.459297Z",
     "shell.execute_reply.started": "2022-11-27T14:53:30.282500Z"
    },
    "jupyter": {
     "outputs_hidden": true,
     "source_hidden": true
    },
    "tags": []
   },
   "outputs": [
    {
     "data": {
      "application/vnd.jupyter.widget-view+json": {
       "model_id": "01bb8883db004ce691c63d0dae37e0eb",
       "version_major": 2,
       "version_minor": 0
      },
      "text/plain": [
       "VBox()"
      ]
     },
     "metadata": {},
     "output_type": "display_data"
    },
    {
     "data": {
      "application/vnd.jupyter.widget-view+json": {
       "model_id": "",
       "version_major": 2,
       "version_minor": 0
      },
      "text/plain": [
       "FloatProgress(value=0.0, bar_style='info', description='Progress:', layout=Layout(height='25px', width='50%'),…"
      ]
     },
     "metadata": {},
     "output_type": "display_data"
    }
   ],
   "source": [
    "write_table_parquet(reviews_final, 's3://mussa-bucket/data_parquet/reviews.parquet')"
   ]
  },
  {
   "cell_type": "code",
   "execution_count": 34,
   "id": "4f89c74f-ed31-4379-9d6c-f02b89de71d8",
   "metadata": {
    "execution": {
     "iopub.execute_input": "2022-11-27T14:55:12.592493Z",
     "iopub.status.busy": "2022-11-27T14:55:12.590989Z",
     "iopub.status.idle": "2022-11-27T14:56:43.559561Z",
     "shell.execute_reply": "2022-11-27T14:56:43.558353Z",
     "shell.execute_reply.started": "2022-11-27T14:55:12.592425Z"
    },
    "jupyter": {
     "source_hidden": true
    },
    "tags": []
   },
   "outputs": [
    {
     "data": {
      "application/vnd.jupyter.widget-view+json": {
       "model_id": "35ad3034c3a74fc4be0adb9c8308de64",
       "version_major": 2,
       "version_minor": 0
      },
      "text/plain": [
       "VBox()"
      ]
     },
     "metadata": {},
     "output_type": "display_data"
    },
    {
     "data": {
      "application/vnd.jupyter.widget-view+json": {
       "model_id": "",
       "version_major": 2,
       "version_minor": 0
      },
      "text/plain": [
       "FloatProgress(value=0.0, bar_style='info', description='Progress:', layout=Layout(height='25px', width='50%'),…"
      ]
     },
     "metadata": {},
     "output_type": "display_data"
    }
   ],
   "source": [
    "write_table_parquet(authors, 's3://mussa-bucket/data_parquet/authors.parquet')"
   ]
  },
  {
   "cell_type": "markdown",
   "id": "570a7735-f286-41f8-a001-127372591cf8",
   "metadata": {
    "tags": []
   },
   "source": [
    "### now we reload our parquet data and do some quality checks"
   ]
  },
  {
   "cell_type": "code",
   "execution_count": 1,
   "id": "a58f00fd-2210-43c1-9916-a645e3af3d93",
   "metadata": {
    "execution": {
     "iopub.execute_input": "2022-11-27T17:02:37.675324Z",
     "iopub.status.busy": "2022-11-27T17:02:37.674986Z",
     "iopub.status.idle": "2022-11-27T17:03:12.849512Z",
     "shell.execute_reply": "2022-11-27T17:03:12.847634Z",
     "shell.execute_reply.started": "2022-11-27T17:02:37.675287Z"
    },
    "tags": []
   },
   "outputs": [
    {
     "data": {
      "application/vnd.jupyter.widget-view+json": {
       "model_id": "3fa5c4d785fd4b85a8bbe57a4c33a30a",
       "version_major": 2,
       "version_minor": 0
      },
      "text/plain": [
       "VBox()"
      ]
     },
     "metadata": {},
     "output_type": "display_data"
    },
    {
     "name": "stdout",
     "output_type": "stream",
     "text": [
      "Starting Spark application\n"
     ]
    },
    {
     "data": {
      "text/html": [
       "<table>\n",
       "<tr><th>ID</th><th>YARN Application ID</th><th>Kind</th><th>State</th><th>Spark UI</th><th>Driver log</th><th>Current session?</th></tr><tr><td>3</td><td>application_1669563099783_0004</td><td>pyspark</td><td>idle</td><td><a target=\"_blank\" href=\"http://ip-172-31-47-154.us-west-2.compute.internal:20888/proxy/application_1669563099783_0004/\">Link</a></td><td><a target=\"_blank\" href=\"http://ip-172-31-34-138.us-west-2.compute.internal:8042/node/containerlogs/container_1669563099783_0004_01_000001/livy\">Link</a></td><td>✔</td></tr></table>"
      ],
      "text/plain": [
       "<IPython.core.display.HTML object>"
      ]
     },
     "metadata": {},
     "output_type": "display_data"
    },
    {
     "data": {
      "application/vnd.jupyter.widget-view+json": {
       "model_id": "",
       "version_major": 2,
       "version_minor": 0
      },
      "text/plain": [
       "FloatProgress(value=0.0, bar_style='info', description='Progress:', layout=Layout(height='25px', width='50%'),…"
      ]
     },
     "metadata": {},
     "output_type": "display_data"
    },
    {
     "name": "stdout",
     "output_type": "stream",
     "text": [
      "SparkSession available as 'spark'.\n"
     ]
    },
    {
     "data": {
      "application/vnd.jupyter.widget-view+json": {
       "model_id": "",
       "version_major": 2,
       "version_minor": 0
      },
      "text/plain": [
       "FloatProgress(value=0.0, bar_style='info', description='Progress:', layout=Layout(height='25px', width='50%'),…"
      ]
     },
     "metadata": {},
     "output_type": "display_data"
    }
   ],
   "source": [
    "games1 = spark.read.parquet('s3://mussa-bucket/data_parquet/games.parquet')"
   ]
  },
  {
   "cell_type": "code",
   "execution_count": 2,
   "id": "092a2ac9-3d6e-4fd1-8763-6c963dbfabbb",
   "metadata": {
    "execution": {
     "iopub.execute_input": "2022-11-27T17:03:22.032699Z",
     "iopub.status.busy": "2022-11-27T17:03:22.032361Z",
     "iopub.status.idle": "2022-11-27T17:03:24.642694Z",
     "shell.execute_reply": "2022-11-27T17:03:24.641246Z",
     "shell.execute_reply.started": "2022-11-27T17:03:22.032666Z"
    },
    "tags": []
   },
   "outputs": [
    {
     "data": {
      "application/vnd.jupyter.widget-view+json": {
       "model_id": "6bf61222ad93402a8c11e84099257eba",
       "version_major": 2,
       "version_minor": 0
      },
      "text/plain": [
       "VBox()"
      ]
     },
     "metadata": {},
     "output_type": "display_data"
    },
    {
     "data": {
      "application/vnd.jupyter.widget-view+json": {
       "model_id": "",
       "version_major": 2,
       "version_minor": 0
      },
      "text/plain": [
       "FloatProgress(value=0.0, bar_style='info', description='Progress:', layout=Layout(height='25px', width='50%'),…"
      ]
     },
     "metadata": {},
     "output_type": "display_data"
    }
   ],
   "source": [
    "reviews1 = spark.read.parquet('s3://mussa-bucket/data_parquet/reviews.parquet')"
   ]
  },
  {
   "cell_type": "code",
   "execution_count": 3,
   "id": "cfb70927-67f4-4f26-99b1-90c83ff6bd97",
   "metadata": {
    "execution": {
     "iopub.execute_input": "2022-11-27T17:03:24.648192Z",
     "iopub.status.busy": "2022-11-27T17:03:24.645224Z",
     "iopub.status.idle": "2022-11-27T17:03:28.033702Z",
     "shell.execute_reply": "2022-11-27T17:03:28.032561Z",
     "shell.execute_reply.started": "2022-11-27T17:03:24.648142Z"
    },
    "tags": []
   },
   "outputs": [
    {
     "data": {
      "application/vnd.jupyter.widget-view+json": {
       "model_id": "a1f712b16446454f9a2d31648fdb3242",
       "version_major": 2,
       "version_minor": 0
      },
      "text/plain": [
       "VBox()"
      ]
     },
     "metadata": {},
     "output_type": "display_data"
    },
    {
     "data": {
      "application/vnd.jupyter.widget-view+json": {
       "model_id": "",
       "version_major": 2,
       "version_minor": 0
      },
      "text/plain": [
       "FloatProgress(value=0.0, bar_style='info', description='Progress:', layout=Layout(height='25px', width='50%'),…"
      ]
     },
     "metadata": {},
     "output_type": "display_data"
    }
   ],
   "source": [
    "authors1 = spark.read.parquet('s3://mussa-bucket/data_parquet/authors.parquet')"
   ]
  },
  {
   "cell_type": "markdown",
   "id": "430a839f-833e-4121-ba81-5ac93b5764dd",
   "metadata": {
    "tags": []
   },
   "source": [
    "### Data Quality Checksfor primary keys\n",
    "#### 1) Null check\n",
    "\n",
    " "
   ]
  },
  {
   "cell_type": "code",
   "execution_count": 7,
   "id": "212edc83-f28e-433a-b987-a7b82cb3ee0a",
   "metadata": {
    "execution": {
     "iopub.execute_input": "2022-11-27T15:40:50.712026Z",
     "iopub.status.busy": "2022-11-27T15:40:50.711395Z",
     "iopub.status.idle": "2022-11-27T15:40:51.052015Z",
     "shell.execute_reply": "2022-11-27T15:40:51.050241Z",
     "shell.execute_reply.started": "2022-11-27T15:40:50.711985Z"
    }
   },
   "outputs": [
    {
     "data": {
      "application/vnd.jupyter.widget-view+json": {
       "model_id": "bfd0a312c47b4365903af705bba8c3ee",
       "version_major": 2,
       "version_minor": 0
      },
      "text/plain": [
       "VBox()"
      ]
     },
     "metadata": {},
     "output_type": "display_data"
    },
    {
     "data": {
      "application/vnd.jupyter.widget-view+json": {
       "model_id": "",
       "version_major": 2,
       "version_minor": 0
      },
      "text/plain": [
       "FloatProgress(value=0.0, bar_style='info', description='Progress:', layout=Layout(height='25px', width='50%'),…"
      ]
     },
     "metadata": {},
     "output_type": "display_data"
    }
   ],
   "source": [
    "def null_check(df,column):\n",
    "    '''\n",
    "    check for nulls in specific column\n",
    "    '''\n",
    "    check = df.select(count(when(isnan(column) | col(column).isNull(), column)).alias(column)) \n",
    "    return check.show()"
   ]
  },
  {
   "cell_type": "code",
   "execution_count": 8,
   "id": "4d05e1ba-bfed-4f32-8e50-c6bb0cbafb09",
   "metadata": {
    "execution": {
     "iopub.execute_input": "2022-11-27T15:41:16.539995Z",
     "iopub.status.busy": "2022-11-27T15:41:16.539535Z",
     "iopub.status.idle": "2022-11-27T15:41:30.645769Z",
     "shell.execute_reply": "2022-11-27T15:41:30.644578Z",
     "shell.execute_reply.started": "2022-11-27T15:41:16.539949Z"
    }
   },
   "outputs": [
    {
     "data": {
      "application/vnd.jupyter.widget-view+json": {
       "model_id": "988c7e7868e440bfb9af6b4299ac2b9a",
       "version_major": 2,
       "version_minor": 0
      },
      "text/plain": [
       "VBox()"
      ]
     },
     "metadata": {},
     "output_type": "display_data"
    },
    {
     "data": {
      "application/vnd.jupyter.widget-view+json": {
       "model_id": "",
       "version_major": 2,
       "version_minor": 0
      },
      "text/plain": [
       "FloatProgress(value=0.0, bar_style='info', description='Progress:', layout=Layout(height='25px', width='50%'),…"
      ]
     },
     "metadata": {},
     "output_type": "display_data"
    },
    {
     "name": "stdout",
     "output_type": "stream",
     "text": [
      "+----+\n",
      "|name|\n",
      "+----+\n",
      "|   0|\n",
      "+----+"
     ]
    }
   ],
   "source": [
    "null_check(games1,'name')"
   ]
  },
  {
   "cell_type": "code",
   "execution_count": 9,
   "id": "6430f88d-d70c-47aa-ba2d-0882b0d6f51f",
   "metadata": {
    "execution": {
     "iopub.execute_input": "2022-11-27T15:41:59.760456Z",
     "iopub.status.busy": "2022-11-27T15:41:59.760151Z",
     "iopub.status.idle": "2022-11-27T15:42:05.682738Z",
     "shell.execute_reply": "2022-11-27T15:42:05.681372Z",
     "shell.execute_reply.started": "2022-11-27T15:41:59.760429Z"
    }
   },
   "outputs": [
    {
     "data": {
      "application/vnd.jupyter.widget-view+json": {
       "model_id": "2fea93f7d471400d89dcf6e093911a9d",
       "version_major": 2,
       "version_minor": 0
      },
      "text/plain": [
       "VBox()"
      ]
     },
     "metadata": {},
     "output_type": "display_data"
    },
    {
     "data": {
      "application/vnd.jupyter.widget-view+json": {
       "model_id": "",
       "version_major": 2,
       "version_minor": 0
      },
      "text/plain": [
       "FloatProgress(value=0.0, bar_style='info', description='Progress:', layout=Layout(height='25px', width='50%'),…"
      ]
     },
     "metadata": {},
     "output_type": "display_data"
    },
    {
     "name": "stdout",
     "output_type": "stream",
     "text": [
      "+---------+\n",
      "|review_id|\n",
      "+---------+\n",
      "|        0|\n",
      "+---------+"
     ]
    }
   ],
   "source": [
    "null_check(reviews1,'review_id')"
   ]
  },
  {
   "cell_type": "code",
   "execution_count": 10,
   "id": "87b7e999-2c94-408d-8de8-c96f806df548",
   "metadata": {
    "execution": {
     "iopub.execute_input": "2022-11-27T15:42:47.361282Z",
     "iopub.status.busy": "2022-11-27T15:42:47.360977Z",
     "iopub.status.idle": "2022-11-27T15:42:53.289327Z",
     "shell.execute_reply": "2022-11-27T15:42:53.287005Z",
     "shell.execute_reply.started": "2022-11-27T15:42:47.361257Z"
    }
   },
   "outputs": [
    {
     "data": {
      "application/vnd.jupyter.widget-view+json": {
       "model_id": "cbdc3f327e5245b9b222dfed451bd5dd",
       "version_major": 2,
       "version_minor": 0
      },
      "text/plain": [
       "VBox()"
      ]
     },
     "metadata": {},
     "output_type": "display_data"
    },
    {
     "data": {
      "application/vnd.jupyter.widget-view+json": {
       "model_id": "",
       "version_major": 2,
       "version_minor": 0
      },
      "text/plain": [
       "FloatProgress(value=0.0, bar_style='info', description='Progress:', layout=Layout(height='25px', width='50%'),…"
      ]
     },
     "metadata": {},
     "output_type": "display_data"
    },
    {
     "name": "stdout",
     "output_type": "stream",
     "text": [
      "+--------------+\n",
      "|author_steamid|\n",
      "+--------------+\n",
      "|             0|\n",
      "+--------------+"
     ]
    }
   ],
   "source": [
    "null_check(authors1,'author_steamid')"
   ]
  },
  {
   "cell_type": "markdown",
   "id": "69c4f3ec-9741-4852-9a4b-b302b50bcd28",
   "metadata": {
    "tags": []
   },
   "source": [
    "#### .......................................................\n",
    "#### 2) duplicates check\n",
    "#### .......................................................\n"
   ]
  },
  {
   "cell_type": "code",
   "execution_count": 12,
   "id": "d7f626c3-9b68-4334-bf50-bb634628fa78",
   "metadata": {
    "execution": {
     "iopub.execute_input": "2022-11-27T15:50:14.568312Z",
     "iopub.status.busy": "2022-11-27T15:50:14.567997Z",
     "iopub.status.idle": "2022-11-27T15:50:14.842401Z",
     "shell.execute_reply": "2022-11-27T15:50:14.841106Z",
     "shell.execute_reply.started": "2022-11-27T15:50:14.568286Z"
    }
   },
   "outputs": [
    {
     "data": {
      "application/vnd.jupyter.widget-view+json": {
       "model_id": "5f02f67457364bae92ce37e1e1527fb8",
       "version_major": 2,
       "version_minor": 0
      },
      "text/plain": [
       "VBox()"
      ]
     },
     "metadata": {},
     "output_type": "display_data"
    },
    {
     "data": {
      "application/vnd.jupyter.widget-view+json": {
       "model_id": "",
       "version_major": 2,
       "version_minor": 0
      },
      "text/plain": [
       "FloatProgress(value=0.0, bar_style='info', description='Progress:', layout=Layout(height='25px', width='50%'),…"
      ]
     },
     "metadata": {},
     "output_type": "display_data"
    }
   ],
   "source": [
    "def check_dups_free(df):\n",
    "    check = df.count() == df.dropDuplicates().count()\n",
    "    return check"
   ]
  },
  {
   "cell_type": "code",
   "execution_count": 13,
   "id": "a0045bad-bcea-45c5-902f-6aaccec403b8",
   "metadata": {
    "execution": {
     "iopub.execute_input": "2022-11-27T15:50:44.158251Z",
     "iopub.status.busy": "2022-11-27T15:50:44.157730Z",
     "iopub.status.idle": "2022-11-27T15:51:06.305622Z",
     "shell.execute_reply": "2022-11-27T15:51:06.304686Z",
     "shell.execute_reply.started": "2022-11-27T15:50:44.158212Z"
    }
   },
   "outputs": [
    {
     "data": {
      "application/vnd.jupyter.widget-view+json": {
       "model_id": "ee8768b1358a4b83abefa354b11e1d23",
       "version_major": 2,
       "version_minor": 0
      },
      "text/plain": [
       "VBox()"
      ]
     },
     "metadata": {},
     "output_type": "display_data"
    },
    {
     "data": {
      "application/vnd.jupyter.widget-view+json": {
       "model_id": "",
       "version_major": 2,
       "version_minor": 0
      },
      "text/plain": [
       "FloatProgress(value=0.0, bar_style='info', description='Progress:', layout=Layout(height='25px', width='50%'),…"
      ]
     },
     "metadata": {},
     "output_type": "display_data"
    },
    {
     "name": "stdout",
     "output_type": "stream",
     "text": [
      "True"
     ]
    }
   ],
   "source": [
    "check_dups_free(games1)"
   ]
  },
  {
   "cell_type": "code",
   "execution_count": 14,
   "id": "5f5bde5b-649f-4bb7-8d13-28abf3b4d75f",
   "metadata": {
    "execution": {
     "iopub.execute_input": "2022-11-27T15:51:06.307471Z",
     "iopub.status.busy": "2022-11-27T15:51:06.307159Z",
     "iopub.status.idle": "2022-11-27T15:51:30.625222Z",
     "shell.execute_reply": "2022-11-27T15:51:30.623836Z",
     "shell.execute_reply.started": "2022-11-27T15:51:06.307443Z"
    }
   },
   "outputs": [
    {
     "data": {
      "application/vnd.jupyter.widget-view+json": {
       "model_id": "ac67588ef510436cad4f4ee1d1a4fdc8",
       "version_major": 2,
       "version_minor": 0
      },
      "text/plain": [
       "VBox()"
      ]
     },
     "metadata": {},
     "output_type": "display_data"
    },
    {
     "data": {
      "application/vnd.jupyter.widget-view+json": {
       "model_id": "",
       "version_major": 2,
       "version_minor": 0
      },
      "text/plain": [
       "FloatProgress(value=0.0, bar_style='info', description='Progress:', layout=Layout(height='25px', width='50%'),…"
      ]
     },
     "metadata": {},
     "output_type": "display_data"
    },
    {
     "name": "stdout",
     "output_type": "stream",
     "text": [
      "True"
     ]
    }
   ],
   "source": [
    "check_dups_free(reviews1)"
   ]
  },
  {
   "cell_type": "code",
   "execution_count": 15,
   "id": "b49ac4b2-43d6-4100-8bf9-987d272b27e6",
   "metadata": {
    "execution": {
     "iopub.execute_input": "2022-11-27T15:51:30.628824Z",
     "iopub.status.busy": "2022-11-27T15:51:30.627760Z",
     "iopub.status.idle": "2022-11-27T15:51:36.548559Z",
     "shell.execute_reply": "2022-11-27T15:51:36.547175Z",
     "shell.execute_reply.started": "2022-11-27T15:51:30.628749Z"
    }
   },
   "outputs": [
    {
     "data": {
      "application/vnd.jupyter.widget-view+json": {
       "model_id": "65d9f813df0944d8ad6e8c3e28cf6ca7",
       "version_major": 2,
       "version_minor": 0
      },
      "text/plain": [
       "VBox()"
      ]
     },
     "metadata": {},
     "output_type": "display_data"
    },
    {
     "data": {
      "application/vnd.jupyter.widget-view+json": {
       "model_id": "",
       "version_major": 2,
       "version_minor": 0
      },
      "text/plain": [
       "FloatProgress(value=0.0, bar_style='info', description='Progress:', layout=Layout(height='25px', width='50%'),…"
      ]
     },
     "metadata": {},
     "output_type": "display_data"
    },
    {
     "name": "stdout",
     "output_type": "stream",
     "text": [
      "True"
     ]
    }
   ],
   "source": [
    "check_dups_free(authors1)"
   ]
  },
  {
   "cell_type": "markdown",
   "id": "5e3e85bf-0871-4fe7-9dfb-0db8272849a8",
   "metadata": {
    "jupyter": {
     "source_hidden": true
    },
    "tags": []
   },
   "source": [
    "## Step 5: Project Write Up\n",
    "\n",
    "### choice of tools:\n",
    "#### I have chosen to use jupyter notebook on EMR as it offers some super quick and robust enviroment since the notebook and s3 bucket are both on the same\n",
    "#### availability zone (us-west-2)\n",
    "### how often the data should be updated and why:\n",
    "#### Well since this data is game related I think it would be adequate to update it once or twice a year, as to give enough time \n",
    "#### for new games to be published, then played and reviewed"
   ]
  },
  {
   "cell_type": "markdown",
   "id": "985cc318-7a04-4c41-9881-8d1c390f9fc2",
   "metadata": {
    "jp-MarkdownHeadingCollapsed": true,
    "jupyter": {
     "source_hidden": true
    },
    "tags": []
   },
   "source": [
    "### Possible cases\n",
    "### 1. Data was increases by 100x\n",
    "#### --> In this case, we can increase emr cluster nodes to be able to handle more load.\n",
    "\n",
    "### 2. The pipelines needs to run on a daily basis by 7 am every day\n",
    "#### --> For this case we can start using apache airflow and set the dag to be run '@daily'\n",
    "\n",
    "### 3. The database needs to be accessed by 100+ people.\n",
    "#### --> data on s3 is quite available so i guess there is no problem in that (please correct me if I am wrong)\n",
    "#### but if you mean we have a lot of data users querying the data at the same time, then we can maybe put our data on columnar redshift cluster\n",
    "#### and we can even create data marts tailored to these users if they fall under the same department or have similar needs"
   ]
  },
  {
   "cell_type": "markdown",
   "id": "fbe77018-2677-4a84-949f-2479034d7d25",
   "metadata": {},
   "source": [
    "### Analysis example"
   ]
  },
  {
   "cell_type": "markdown",
   "id": "76a9c003-c567-458e-8c82-13a99fb07213",
   "metadata": {},
   "source": [
    "#### Let's check the publisher for the most recommended game on steam"
   ]
  },
  {
   "cell_type": "code",
   "execution_count": 63,
   "id": "35b30773-7608-4d91-abe9-5d1f890eb4ab",
   "metadata": {
    "execution": {
     "iopub.execute_input": "2022-11-27T17:43:39.894587Z",
     "iopub.status.busy": "2022-11-27T17:43:39.894270Z",
     "iopub.status.idle": "2022-11-27T17:43:40.136633Z",
     "shell.execute_reply": "2022-11-27T17:43:40.135113Z",
     "shell.execute_reply.started": "2022-11-27T17:43:39.894560Z"
    },
    "tags": []
   },
   "outputs": [
    {
     "data": {
      "application/vnd.jupyter.widget-view+json": {
       "model_id": "0f4527b989174016846e3eecab70bf52",
       "version_major": 2,
       "version_minor": 0
      },
      "text/plain": [
       "VBox()"
      ]
     },
     "metadata": {},
     "output_type": "display_data"
    },
    {
     "data": {
      "application/vnd.jupyter.widget-view+json": {
       "model_id": "",
       "version_major": 2,
       "version_minor": 0
      },
      "text/plain": [
       "FloatProgress(value=0.0, bar_style='info', description='Progress:', layout=Layout(height='25px', width='50%'),…"
      ]
     },
     "metadata": {},
     "output_type": "display_data"
    }
   ],
   "source": [
    "# I first needed to cast a new column from boolean to int as I was facing problems with counting bools\n",
    "reviews2 = reviews1.withColumn('recommended2',col('recommended').cast(\"integer\"))\n"
   ]
  },
  {
   "cell_type": "code",
   "execution_count": 64,
   "id": "5c577ddc-8008-4902-9382-15519c38e139",
   "metadata": {
    "execution": {
     "iopub.execute_input": "2022-11-27T17:43:40.334967Z",
     "iopub.status.busy": "2022-11-27T17:43:40.334350Z",
     "iopub.status.idle": "2022-11-27T17:43:56.291905Z",
     "shell.execute_reply": "2022-11-27T17:43:56.289648Z",
     "shell.execute_reply.started": "2022-11-27T17:43:40.334923Z"
    },
    "tags": []
   },
   "outputs": [
    {
     "data": {
      "application/vnd.jupyter.widget-view+json": {
       "model_id": "4ce737c1fdf64530b975b7febb96ccdd",
       "version_major": 2,
       "version_minor": 0
      },
      "text/plain": [
       "VBox()"
      ]
     },
     "metadata": {},
     "output_type": "display_data"
    },
    {
     "data": {
      "application/vnd.jupyter.widget-view+json": {
       "model_id": "",
       "version_major": 2,
       "version_minor": 0
      },
      "text/plain": [
       "FloatProgress(value=0.0, bar_style='info', description='Progress:', layout=Layout(height='25px', width='50%'),…"
      ]
     },
     "metadata": {},
     "output_type": "display_data"
    },
    {
     "name": "stdout",
     "output_type": "stream",
     "text": [
      "+---------+-----------------+\n",
      "|game_name|sum(recommended2)|\n",
      "+---------+-----------------+\n",
      "| Terraria|           298773|\n",
      "+---------+-----------------+"
     ]
    }
   ],
   "source": [
    "# Here I got the top recommended game from reviews table\n",
    "query1=reviews2.select('game_name','recommended2').groupby('game_name').sum('recommended2').orderBy('sum(recommended2)',ascending=False).limit(1)\n",
    "query1.show()"
   ]
  },
  {
   "cell_type": "code",
   "execution_count": 67,
   "id": "d36fa4e6-18df-46a2-91da-17dc0af74cd6",
   "metadata": {
    "execution": {
     "iopub.execute_input": "2022-11-27T17:46:35.397337Z",
     "iopub.status.busy": "2022-11-27T17:46:35.397024Z",
     "iopub.status.idle": "2022-11-27T17:46:41.347817Z",
     "shell.execute_reply": "2022-11-27T17:46:41.346519Z",
     "shell.execute_reply.started": "2022-11-27T17:46:35.397309Z"
    },
    "tags": []
   },
   "outputs": [
    {
     "data": {
      "application/vnd.jupyter.widget-view+json": {
       "model_id": "ca1cfc564dca4798a8aae37b968772e9",
       "version_major": 2,
       "version_minor": 0
      },
      "text/plain": [
       "VBox()"
      ]
     },
     "metadata": {},
     "output_type": "display_data"
    },
    {
     "data": {
      "application/vnd.jupyter.widget-view+json": {
       "model_id": "",
       "version_major": 2,
       "version_minor": 0
      },
      "text/plain": [
       "FloatProgress(value=0.0, bar_style='info', description='Progress:', layout=Layout(height='25px', width='50%'),…"
      ]
     },
     "metadata": {},
     "output_type": "display_data"
    },
    {
     "name": "stdout",
     "output_type": "stream",
     "text": [
      "+--------+-----------------+---------+\n",
      "|    name|sum(recommended2)|developer|\n",
      "+--------+-----------------+---------+\n",
      "|Terraria|           298773| Re-Logic|\n",
      "+--------+-----------------+---------+"
     ]
    }
   ],
   "source": [
    "# for the final part we just joined what we have so far with the games table on the game names, then we selected the name and developer fields\n",
    "query2 = games1.join(query1,games1.name ==  query1.game_name,\"inner\").select('name','sum(recommended2)','developer')\n",
    "query2.show()"
   ]
  },
  {
   "cell_type": "code",
   "execution_count": null,
   "id": "2bf99945-d1c6-4440-81ed-a21fd685b54a",
   "metadata": {},
   "outputs": [],
   "source": []
  }
 ],
 "metadata": {
  "kernelspec": {
   "display_name": "PySpark",
   "language": "",
   "name": "pysparkkernel"
  },
  "language_info": {
   "codemirror_mode": {
    "name": "python",
    "version": 2
   },
   "mimetype": "text/x-python",
   "name": "pyspark",
   "pygments_lexer": "python2"
  }
 },
 "nbformat": 4,
 "nbformat_minor": 5
}
